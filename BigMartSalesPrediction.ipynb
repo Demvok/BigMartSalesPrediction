{
 "cells": [
  {
   "cell_type": "code",
   "execution_count": 147,
   "metadata": {},
   "outputs": [],
   "source": [
    "import pandas as pd\n",
    "import numpy as np\n",
    "\n",
    "import seaborn as sns\n",
    "import matplotlib as mpl\n",
    "import matplotlib.pyplot as ppl"
   ]
  },
  {
   "cell_type": "code",
   "execution_count": 148,
   "metadata": {},
   "outputs": [],
   "source": [
    "raw_data = pd.read_csv(\"data/train.csv\")"
   ]
  },
  {
   "cell_type": "markdown",
   "metadata": {},
   "source": [
    "Item_Identifier ---- Unique product ID\n",
    "\n",
    "Item_Weight ---- Weight of product\n",
    "\n",
    "Item_Fat_Content ---- Whether the product is low fat or not\n",
    "\n",
    "Item_Visibility ---- The % of the total display area of all products in a store allocated to the particular product\n",
    "\n",
    "Item_Type ---- The category to which the product belongs\n",
    "\n",
    "Item_MRP ---- Maximum Retail Price (list price) of the product\n",
    "\n",
    "Outlet_Identifier ---- Unique store ID\n",
    "\n",
    "Outlet_Establishment_Year ---- The year in which the store was established\n",
    "\n",
    "Outlet_Size ---- The size of the store in terms of ground area covered\n",
    "\n",
    "Outlet_Location_Type ---- The type of city in which the store is located\n",
    "\n",
    "*Outlet_Type ---- Whether the outlet is just a grocery store or some sort of supermarket\n",
    "\n",
    "Item_Outlet_Sales ---- sales of the product in t particular store. This is the outcome variable to be predicted.\n"
   ]
  },
  {
   "cell_type": "markdown",
   "metadata": {},
   "source": [
    "# Data Exploring"
   ]
  },
  {
   "cell_type": "code",
   "execution_count": 149,
   "metadata": {},
   "outputs": [
    {
     "name": "stdout",
     "output_type": "stream",
     "text": [
      "<class 'pandas.core.frame.DataFrame'>\n",
      "RangeIndex: 8523 entries, 0 to 8522\n",
      "Data columns (total 12 columns):\n",
      " #   Column                     Non-Null Count  Dtype  \n",
      "---  ------                     --------------  -----  \n",
      " 0   Item_Identifier            8523 non-null   object \n",
      " 1   Item_Weight                7060 non-null   float64\n",
      " 2   Item_Fat_Content           8523 non-null   object \n",
      " 3   Item_Visibility            8523 non-null   float64\n",
      " 4   Item_Type                  8523 non-null   object \n",
      " 5   Item_MRP                   8523 non-null   float64\n",
      " 6   Outlet_Identifier          8523 non-null   object \n",
      " 7   Outlet_Establishment_Year  8523 non-null   int64  \n",
      " 8   Outlet_Size                6113 non-null   object \n",
      " 9   Outlet_Location_Type       8523 non-null   object \n",
      " 10  Outlet_Type                8523 non-null   object \n",
      " 11  Item_Outlet_Sales          8523 non-null   float64\n",
      "dtypes: float64(4), int64(1), object(7)\n",
      "memory usage: 799.2+ KB\n"
     ]
    }
   ],
   "source": [
    "raw_data.info()"
   ]
  },
  {
   "cell_type": "markdown",
   "metadata": {},
   "source": [
    "## Dealing with missing"
   ]
  },
  {
   "cell_type": "code",
   "execution_count": 150,
   "metadata": {},
   "outputs": [
    {
     "data": {
      "text/plain": [
       "Item_Weight    1463\n",
       "Outlet_Size    2410\n",
       "dtype: int64"
      ]
     },
     "execution_count": 150,
     "metadata": {},
     "output_type": "execute_result"
    }
   ],
   "source": [
    "cnt = raw_data.shape[0]\n",
    "missing = pd.Series()\n",
    "for col in raw_data:\n",
    "    n = raw_data[col].loc[raw_data[col].notna() == False].size\n",
    "    if n != cnt:\n",
    "        missing[col] = n\n",
    "missing.loc[missing != 0]"
   ]
  },
  {
   "cell_type": "code",
   "execution_count": 216,
   "metadata": {},
   "outputs": [
    {
     "data": {
      "text/html": [
       "<div>\n",
       "<style scoped>\n",
       "    .dataframe tbody tr th:only-of-type {\n",
       "        vertical-align: middle;\n",
       "    }\n",
       "\n",
       "    .dataframe tbody tr th {\n",
       "        vertical-align: top;\n",
       "    }\n",
       "\n",
       "    .dataframe thead th {\n",
       "        text-align: right;\n",
       "    }\n",
       "</style>\n",
       "<table border=\"1\" class=\"dataframe\">\n",
       "  <thead>\n",
       "    <tr style=\"text-align: right;\">\n",
       "      <th></th>\n",
       "      <th>Item_Identifier</th>\n",
       "      <th>Item_Weight</th>\n",
       "      <th>Item_Fat_Content</th>\n",
       "      <th>Item_Visibility</th>\n",
       "      <th>Item_Type</th>\n",
       "      <th>Item_MRP</th>\n",
       "      <th>Outlet_Establishment_Year</th>\n",
       "      <th>Outlet_Size</th>\n",
       "      <th>Outlet_Location_Type</th>\n",
       "      <th>Outlet_Type</th>\n",
       "      <th>Item_Outlet_Sales</th>\n",
       "    </tr>\n",
       "    <tr>\n",
       "      <th>Outlet_Identifier</th>\n",
       "      <th></th>\n",
       "      <th></th>\n",
       "      <th></th>\n",
       "      <th></th>\n",
       "      <th></th>\n",
       "      <th></th>\n",
       "      <th></th>\n",
       "      <th></th>\n",
       "      <th></th>\n",
       "      <th></th>\n",
       "      <th></th>\n",
       "    </tr>\n",
       "  </thead>\n",
       "  <tbody>\n",
       "    <tr>\n",
       "      <th>OUT010</th>\n",
       "      <td>555</td>\n",
       "      <td>555</td>\n",
       "      <td>555</td>\n",
       "      <td>555</td>\n",
       "      <td>555</td>\n",
       "      <td>555</td>\n",
       "      <td>555</td>\n",
       "      <td>555</td>\n",
       "      <td>555</td>\n",
       "      <td>555</td>\n",
       "      <td>555</td>\n",
       "    </tr>\n",
       "    <tr>\n",
       "      <th>OUT013</th>\n",
       "      <td>932</td>\n",
       "      <td>932</td>\n",
       "      <td>932</td>\n",
       "      <td>932</td>\n",
       "      <td>932</td>\n",
       "      <td>932</td>\n",
       "      <td>932</td>\n",
       "      <td>932</td>\n",
       "      <td>932</td>\n",
       "      <td>932</td>\n",
       "      <td>932</td>\n",
       "    </tr>\n",
       "    <tr>\n",
       "      <th>OUT017</th>\n",
       "      <td>926</td>\n",
       "      <td>926</td>\n",
       "      <td>926</td>\n",
       "      <td>926</td>\n",
       "      <td>926</td>\n",
       "      <td>926</td>\n",
       "      <td>926</td>\n",
       "      <td>926</td>\n",
       "      <td>926</td>\n",
       "      <td>926</td>\n",
       "      <td>926</td>\n",
       "    </tr>\n",
       "    <tr>\n",
       "      <th>OUT018</th>\n",
       "      <td>928</td>\n",
       "      <td>928</td>\n",
       "      <td>928</td>\n",
       "      <td>928</td>\n",
       "      <td>928</td>\n",
       "      <td>928</td>\n",
       "      <td>928</td>\n",
       "      <td>928</td>\n",
       "      <td>928</td>\n",
       "      <td>928</td>\n",
       "      <td>928</td>\n",
       "    </tr>\n",
       "    <tr>\n",
       "      <th>OUT019</th>\n",
       "      <td>528</td>\n",
       "      <td>528</td>\n",
       "      <td>528</td>\n",
       "      <td>528</td>\n",
       "      <td>528</td>\n",
       "      <td>528</td>\n",
       "      <td>528</td>\n",
       "      <td>528</td>\n",
       "      <td>528</td>\n",
       "      <td>528</td>\n",
       "      <td>528</td>\n",
       "    </tr>\n",
       "    <tr>\n",
       "      <th>OUT027</th>\n",
       "      <td>935</td>\n",
       "      <td>935</td>\n",
       "      <td>935</td>\n",
       "      <td>935</td>\n",
       "      <td>935</td>\n",
       "      <td>935</td>\n",
       "      <td>935</td>\n",
       "      <td>935</td>\n",
       "      <td>935</td>\n",
       "      <td>935</td>\n",
       "      <td>935</td>\n",
       "    </tr>\n",
       "    <tr>\n",
       "      <th>OUT035</th>\n",
       "      <td>930</td>\n",
       "      <td>930</td>\n",
       "      <td>930</td>\n",
       "      <td>930</td>\n",
       "      <td>930</td>\n",
       "      <td>930</td>\n",
       "      <td>930</td>\n",
       "      <td>930</td>\n",
       "      <td>930</td>\n",
       "      <td>930</td>\n",
       "      <td>930</td>\n",
       "    </tr>\n",
       "    <tr>\n",
       "      <th>OUT045</th>\n",
       "      <td>929</td>\n",
       "      <td>929</td>\n",
       "      <td>929</td>\n",
       "      <td>929</td>\n",
       "      <td>929</td>\n",
       "      <td>929</td>\n",
       "      <td>929</td>\n",
       "      <td>929</td>\n",
       "      <td>929</td>\n",
       "      <td>929</td>\n",
       "      <td>929</td>\n",
       "    </tr>\n",
       "    <tr>\n",
       "      <th>OUT046</th>\n",
       "      <td>930</td>\n",
       "      <td>930</td>\n",
       "      <td>930</td>\n",
       "      <td>930</td>\n",
       "      <td>930</td>\n",
       "      <td>930</td>\n",
       "      <td>930</td>\n",
       "      <td>930</td>\n",
       "      <td>930</td>\n",
       "      <td>930</td>\n",
       "      <td>930</td>\n",
       "    </tr>\n",
       "    <tr>\n",
       "      <th>OUT049</th>\n",
       "      <td>930</td>\n",
       "      <td>930</td>\n",
       "      <td>930</td>\n",
       "      <td>930</td>\n",
       "      <td>930</td>\n",
       "      <td>930</td>\n",
       "      <td>930</td>\n",
       "      <td>930</td>\n",
       "      <td>930</td>\n",
       "      <td>930</td>\n",
       "      <td>930</td>\n",
       "    </tr>\n",
       "  </tbody>\n",
       "</table>\n",
       "</div>"
      ],
      "text/plain": [
       "                   Item_Identifier  Item_Weight  Item_Fat_Content  \\\n",
       "Outlet_Identifier                                                   \n",
       "OUT010                         555          555               555   \n",
       "OUT013                         932          932               932   \n",
       "OUT017                         926          926               926   \n",
       "OUT018                         928          928               928   \n",
       "OUT019                         528          528               528   \n",
       "OUT027                         935          935               935   \n",
       "OUT035                         930          930               930   \n",
       "OUT045                         929          929               929   \n",
       "OUT046                         930          930               930   \n",
       "OUT049                         930          930               930   \n",
       "\n",
       "                   Item_Visibility  Item_Type  Item_MRP  \\\n",
       "Outlet_Identifier                                         \n",
       "OUT010                         555        555       555   \n",
       "OUT013                         932        932       932   \n",
       "OUT017                         926        926       926   \n",
       "OUT018                         928        928       928   \n",
       "OUT019                         528        528       528   \n",
       "OUT027                         935        935       935   \n",
       "OUT035                         930        930       930   \n",
       "OUT045                         929        929       929   \n",
       "OUT046                         930        930       930   \n",
       "OUT049                         930        930       930   \n",
       "\n",
       "                   Outlet_Establishment_Year  Outlet_Size  \\\n",
       "Outlet_Identifier                                           \n",
       "OUT010                                   555          555   \n",
       "OUT013                                   932          932   \n",
       "OUT017                                   926          926   \n",
       "OUT018                                   928          928   \n",
       "OUT019                                   528          528   \n",
       "OUT027                                   935          935   \n",
       "OUT035                                   930          930   \n",
       "OUT045                                   929          929   \n",
       "OUT046                                   930          930   \n",
       "OUT049                                   930          930   \n",
       "\n",
       "                   Outlet_Location_Type  Outlet_Type  Item_Outlet_Sales  \n",
       "Outlet_Identifier                                                        \n",
       "OUT010                              555          555                555  \n",
       "OUT013                              932          932                932  \n",
       "OUT017                              926          926                926  \n",
       "OUT018                              928          928                928  \n",
       "OUT019                              528          528                528  \n",
       "OUT027                              935          935                935  \n",
       "OUT035                              930          930                930  \n",
       "OUT045                              929          929                929  \n",
       "OUT046                              930          930                930  \n",
       "OUT049                              930          930                930  "
      ]
     },
     "execution_count": 216,
     "metadata": {},
     "output_type": "execute_result"
    }
   ],
   "source": [
    "raw_data.groupby(['Outlet_Identifier']).count()"
   ]
  },
  {
   "cell_type": "markdown",
   "metadata": {},
   "source": [
    "### Outlet size"
   ]
  },
  {
   "cell_type": "code",
   "execution_count": 152,
   "metadata": {},
   "outputs": [],
   "source": [
    "missing = raw_data.loc[raw_data['Outlet_Size'].notna() == False]\n",
    "present = raw_data.loc[raw_data['Outlet_Size'].notna() == True]"
   ]
  },
  {
   "cell_type": "code",
   "execution_count": 153,
   "metadata": {},
   "outputs": [
    {
     "data": {
      "text/html": [
       "<div>\n",
       "<style scoped>\n",
       "    .dataframe tbody tr th:only-of-type {\n",
       "        vertical-align: middle;\n",
       "    }\n",
       "\n",
       "    .dataframe tbody tr th {\n",
       "        vertical-align: top;\n",
       "    }\n",
       "\n",
       "    .dataframe thead th {\n",
       "        text-align: right;\n",
       "    }\n",
       "</style>\n",
       "<table border=\"1\" class=\"dataframe\">\n",
       "  <thead>\n",
       "    <tr style=\"text-align: right;\">\n",
       "      <th></th>\n",
       "      <th>Item_Identifier</th>\n",
       "      <th>Item_Weight</th>\n",
       "      <th>Item_Fat_Content</th>\n",
       "      <th>Item_Visibility</th>\n",
       "      <th>Item_Type</th>\n",
       "      <th>Item_MRP</th>\n",
       "      <th>Outlet_Establishment_Year</th>\n",
       "      <th>Outlet_Size</th>\n",
       "      <th>Outlet_Location_Type</th>\n",
       "      <th>Outlet_Type</th>\n",
       "      <th>Item_Outlet_Sales</th>\n",
       "    </tr>\n",
       "    <tr>\n",
       "      <th>Outlet_Identifier</th>\n",
       "      <th></th>\n",
       "      <th></th>\n",
       "      <th></th>\n",
       "      <th></th>\n",
       "      <th></th>\n",
       "      <th></th>\n",
       "      <th></th>\n",
       "      <th></th>\n",
       "      <th></th>\n",
       "      <th></th>\n",
       "      <th></th>\n",
       "    </tr>\n",
       "  </thead>\n",
       "  <tbody>\n",
       "    <tr>\n",
       "      <th>OUT010</th>\n",
       "      <td>555</td>\n",
       "      <td>555</td>\n",
       "      <td>555</td>\n",
       "      <td>555</td>\n",
       "      <td>555</td>\n",
       "      <td>555</td>\n",
       "      <td>555</td>\n",
       "      <td>0</td>\n",
       "      <td>555</td>\n",
       "      <td>555</td>\n",
       "      <td>555</td>\n",
       "    </tr>\n",
       "    <tr>\n",
       "      <th>OUT017</th>\n",
       "      <td>926</td>\n",
       "      <td>926</td>\n",
       "      <td>926</td>\n",
       "      <td>926</td>\n",
       "      <td>926</td>\n",
       "      <td>926</td>\n",
       "      <td>926</td>\n",
       "      <td>0</td>\n",
       "      <td>926</td>\n",
       "      <td>926</td>\n",
       "      <td>926</td>\n",
       "    </tr>\n",
       "    <tr>\n",
       "      <th>OUT045</th>\n",
       "      <td>929</td>\n",
       "      <td>929</td>\n",
       "      <td>929</td>\n",
       "      <td>929</td>\n",
       "      <td>929</td>\n",
       "      <td>929</td>\n",
       "      <td>929</td>\n",
       "      <td>0</td>\n",
       "      <td>929</td>\n",
       "      <td>929</td>\n",
       "      <td>929</td>\n",
       "    </tr>\n",
       "  </tbody>\n",
       "</table>\n",
       "</div>"
      ],
      "text/plain": [
       "                   Item_Identifier  Item_Weight  Item_Fat_Content  \\\n",
       "Outlet_Identifier                                                   \n",
       "OUT010                         555          555               555   \n",
       "OUT017                         926          926               926   \n",
       "OUT045                         929          929               929   \n",
       "\n",
       "                   Item_Visibility  Item_Type  Item_MRP  \\\n",
       "Outlet_Identifier                                         \n",
       "OUT010                         555        555       555   \n",
       "OUT017                         926        926       926   \n",
       "OUT045                         929        929       929   \n",
       "\n",
       "                   Outlet_Establishment_Year  Outlet_Size  \\\n",
       "Outlet_Identifier                                           \n",
       "OUT010                                   555            0   \n",
       "OUT017                                   926            0   \n",
       "OUT045                                   929            0   \n",
       "\n",
       "                   Outlet_Location_Type  Outlet_Type  Item_Outlet_Sales  \n",
       "Outlet_Identifier                                                        \n",
       "OUT010                              555          555                555  \n",
       "OUT017                              926          926                926  \n",
       "OUT045                              929          929                929  "
      ]
     },
     "execution_count": 153,
     "metadata": {},
     "output_type": "execute_result"
    }
   ],
   "source": [
    "missing.groupby(['Outlet_Identifier']).count()"
   ]
  },
  {
   "cell_type": "markdown",
   "metadata": {},
   "source": [
    "Outlet size is completely missing on every occurrence"
   ]
  },
  {
   "cell_type": "markdown",
   "metadata": {},
   "source": [
    "Filling by new category"
   ]
  },
  {
   "cell_type": "code",
   "execution_count": 154,
   "metadata": {},
   "outputs": [
    {
     "data": {
      "text/plain": [
       "array(['Medium', nan, 'High', 'Small'], dtype=object)"
      ]
     },
     "execution_count": 154,
     "metadata": {},
     "output_type": "execute_result"
    }
   ],
   "source": [
    "raw_data.Outlet_Size.unique()"
   ]
  },
  {
   "cell_type": "code",
   "execution_count": 155,
   "metadata": {},
   "outputs": [],
   "source": [
    "raw_data.Outlet_Size = raw_data.Outlet_Size.fillna('undefined')"
   ]
  },
  {
   "cell_type": "code",
   "execution_count": 156,
   "metadata": {},
   "outputs": [
    {
     "data": {
      "text/plain": [
       "array(['Medium', 'undefined', 'High', 'Small'], dtype=object)"
      ]
     },
     "execution_count": 156,
     "metadata": {},
     "output_type": "execute_result"
    }
   ],
   "source": [
    "raw_data.Outlet_Size.unique()"
   ]
  },
  {
   "cell_type": "markdown",
   "metadata": {},
   "source": [
    "### Item weight"
   ]
  },
  {
   "cell_type": "code",
   "execution_count": 175,
   "metadata": {},
   "outputs": [],
   "source": [
    "missing = raw_data.loc[raw_data['Item_Weight'].notna() == False]\n",
    "present = raw_data.loc[raw_data['Item_Weight'].notna() == True]"
   ]
  },
  {
   "cell_type": "code",
   "execution_count": 178,
   "metadata": {},
   "outputs": [
    {
     "data": {
      "text/plain": [
       "array(['FDN52', 'FDK57', 'FDE52', 'FDQ60'], dtype=object)"
      ]
     },
     "execution_count": 178,
     "metadata": {},
     "output_type": "execute_result"
    }
   ],
   "source": [
    "missing.Item_Identifier.unique()"
   ]
  },
  {
   "cell_type": "markdown",
   "metadata": {},
   "source": [
    "Searching for records from other outlets and filling where it is possible."
   ]
  },
  {
   "cell_type": "code",
   "execution_count": 161,
   "metadata": {},
   "outputs": [],
   "source": [
    "for id in missing.Item_Identifier.unique():\n",
    "    found_row = raw_data.query(f'Item_Identifier == \"{id}\"')\n",
    "    found_row = found_row[found_row['Item_Weight'].isna() == False]\n",
    "    filler_weight = found_row.Item_Weight.median()\n",
    "    raw_data.loc[raw_data['Item_Identifier'] == id] = raw_data.loc[raw_data['Item_Identifier'] == id].fillna(filler_weight)"
   ]
  },
  {
   "cell_type": "code",
   "execution_count": 182,
   "metadata": {},
   "outputs": [
    {
     "data": {
      "text/plain": [
       "array(['FDN52', 'FDK57', 'FDE52', 'FDQ60'], dtype=object)"
      ]
     },
     "execution_count": 182,
     "metadata": {},
     "output_type": "execute_result"
    }
   ],
   "source": [
    "still_missing = raw_data.loc[raw_data['Item_Weight'].isna()].Item_Identifier.unique()\n",
    "still_missing"
   ]
  },
  {
   "cell_type": "markdown",
   "metadata": {},
   "source": [
    "Filling the no-clues ones"
   ]
  },
  {
   "cell_type": "code",
   "execution_count": 185,
   "metadata": {},
   "outputs": [
    {
     "data": {
      "text/html": [
       "<div>\n",
       "<style scoped>\n",
       "    .dataframe tbody tr th:only-of-type {\n",
       "        vertical-align: middle;\n",
       "    }\n",
       "\n",
       "    .dataframe tbody tr th {\n",
       "        vertical-align: top;\n",
       "    }\n",
       "\n",
       "    .dataframe thead th {\n",
       "        text-align: right;\n",
       "    }\n",
       "</style>\n",
       "<table border=\"1\" class=\"dataframe\">\n",
       "  <thead>\n",
       "    <tr style=\"text-align: right;\">\n",
       "      <th></th>\n",
       "      <th>Item_Weight</th>\n",
       "    </tr>\n",
       "    <tr>\n",
       "      <th>Item_Type</th>\n",
       "      <th></th>\n",
       "    </tr>\n",
       "  </thead>\n",
       "  <tbody>\n",
       "    <tr>\n",
       "      <th>Baking Goods</th>\n",
       "      <td>11.6500</td>\n",
       "    </tr>\n",
       "    <tr>\n",
       "      <th>Breads</th>\n",
       "      <td>10.6000</td>\n",
       "    </tr>\n",
       "    <tr>\n",
       "      <th>Breakfast</th>\n",
       "      <td>10.6950</td>\n",
       "    </tr>\n",
       "    <tr>\n",
       "      <th>Canned</th>\n",
       "      <td>12.3500</td>\n",
       "    </tr>\n",
       "    <tr>\n",
       "      <th>Dairy</th>\n",
       "      <td>13.3500</td>\n",
       "    </tr>\n",
       "    <tr>\n",
       "      <th>Frozen Foods</th>\n",
       "      <td>12.8500</td>\n",
       "    </tr>\n",
       "    <tr>\n",
       "      <th>Fruits and Vegetables</th>\n",
       "      <td>13.1000</td>\n",
       "    </tr>\n",
       "    <tr>\n",
       "      <th>Hard Drinks</th>\n",
       "      <td>9.8975</td>\n",
       "    </tr>\n",
       "    <tr>\n",
       "      <th>Health and Hygiene</th>\n",
       "      <td>12.1500</td>\n",
       "    </tr>\n",
       "    <tr>\n",
       "      <th>Household</th>\n",
       "      <td>13.5000</td>\n",
       "    </tr>\n",
       "    <tr>\n",
       "      <th>Meat</th>\n",
       "      <td>12.3500</td>\n",
       "    </tr>\n",
       "    <tr>\n",
       "      <th>Others</th>\n",
       "      <td>14.5000</td>\n",
       "    </tr>\n",
       "    <tr>\n",
       "      <th>Seafood</th>\n",
       "      <td>11.6500</td>\n",
       "    </tr>\n",
       "    <tr>\n",
       "      <th>Snack Foods</th>\n",
       "      <td>13.1500</td>\n",
       "    </tr>\n",
       "    <tr>\n",
       "      <th>Soft Drinks</th>\n",
       "      <td>11.8000</td>\n",
       "    </tr>\n",
       "    <tr>\n",
       "      <th>Starchy Foods</th>\n",
       "      <td>13.5000</td>\n",
       "    </tr>\n",
       "  </tbody>\n",
       "</table>\n",
       "</div>"
      ],
      "text/plain": [
       "                       Item_Weight\n",
       "Item_Type                         \n",
       "Baking Goods               11.6500\n",
       "Breads                     10.6000\n",
       "Breakfast                  10.6950\n",
       "Canned                     12.3500\n",
       "Dairy                      13.3500\n",
       "Frozen Foods               12.8500\n",
       "Fruits and Vegetables      13.1000\n",
       "Hard Drinks                 9.8975\n",
       "Health and Hygiene         12.1500\n",
       "Household                  13.5000\n",
       "Meat                       12.3500\n",
       "Others                     14.5000\n",
       "Seafood                    11.6500\n",
       "Snack Foods                13.1500\n",
       "Soft Drinks                11.8000\n",
       "Starchy Foods              13.5000"
      ]
     },
     "execution_count": 185,
     "metadata": {},
     "output_type": "execute_result"
    }
   ],
   "source": [
    "median_weight_by_type = raw_data.loc[:, ['Item_Weight', 'Item_Type']].groupby('Item_Type').median()\n",
    "median_weight_by_type"
   ]
  },
  {
   "cell_type": "code",
   "execution_count": 213,
   "metadata": {},
   "outputs": [],
   "source": [
    "for id in still_missing:\n",
    "    missing_element = raw_data.loc[raw_data['Item_Identifier'] == id]\n",
    "    new_weight = median_weight_by_type.loc[missing_element.Item_Type.iloc[0]].iloc[0]\n",
    "    raw_data.loc[raw_data['Item_Identifier'] == id] = raw_data.loc[raw_data['Item_Identifier'] == id].fillna(new_weight)"
   ]
  },
  {
   "cell_type": "code",
   "execution_count": 214,
   "metadata": {},
   "outputs": [
    {
     "data": {
      "text/html": [
       "<div>\n",
       "<style scoped>\n",
       "    .dataframe tbody tr th:only-of-type {\n",
       "        vertical-align: middle;\n",
       "    }\n",
       "\n",
       "    .dataframe tbody tr th {\n",
       "        vertical-align: top;\n",
       "    }\n",
       "\n",
       "    .dataframe thead th {\n",
       "        text-align: right;\n",
       "    }\n",
       "</style>\n",
       "<table border=\"1\" class=\"dataframe\">\n",
       "  <thead>\n",
       "    <tr style=\"text-align: right;\">\n",
       "      <th></th>\n",
       "      <th>Item_Identifier</th>\n",
       "      <th>Item_Weight</th>\n",
       "      <th>Item_Fat_Content</th>\n",
       "      <th>Item_Visibility</th>\n",
       "      <th>Item_Type</th>\n",
       "      <th>Item_MRP</th>\n",
       "      <th>Outlet_Identifier</th>\n",
       "      <th>Outlet_Establishment_Year</th>\n",
       "      <th>Outlet_Size</th>\n",
       "      <th>Outlet_Location_Type</th>\n",
       "      <th>Outlet_Type</th>\n",
       "      <th>Item_Outlet_Sales</th>\n",
       "    </tr>\n",
       "  </thead>\n",
       "  <tbody>\n",
       "  </tbody>\n",
       "</table>\n",
       "</div>"
      ],
      "text/plain": [
       "Empty DataFrame\n",
       "Columns: [Item_Identifier, Item_Weight, Item_Fat_Content, Item_Visibility, Item_Type, Item_MRP, Outlet_Identifier, Outlet_Establishment_Year, Outlet_Size, Outlet_Location_Type, Outlet_Type, Item_Outlet_Sales]\n",
       "Index: []"
      ]
     },
     "execution_count": 214,
     "metadata": {},
     "output_type": "execute_result"
    }
   ],
   "source": [
    "raw_data.loc[raw_data['Item_Weight'].isna()]"
   ]
  },
  {
   "cell_type": "code",
   "execution_count": 215,
   "metadata": {},
   "outputs": [
    {
     "name": "stdout",
     "output_type": "stream",
     "text": [
      "<class 'pandas.core.frame.DataFrame'>\n",
      "RangeIndex: 8523 entries, 0 to 8522\n",
      "Data columns (total 12 columns):\n",
      " #   Column                     Non-Null Count  Dtype  \n",
      "---  ------                     --------------  -----  \n",
      " 0   Item_Identifier            8523 non-null   object \n",
      " 1   Item_Weight                8523 non-null   float64\n",
      " 2   Item_Fat_Content           8523 non-null   object \n",
      " 3   Item_Visibility            8523 non-null   float64\n",
      " 4   Item_Type                  8523 non-null   object \n",
      " 5   Item_MRP                   8523 non-null   float64\n",
      " 6   Outlet_Identifier          8523 non-null   object \n",
      " 7   Outlet_Establishment_Year  8523 non-null   int64  \n",
      " 8   Outlet_Size                8523 non-null   object \n",
      " 9   Outlet_Location_Type       8523 non-null   object \n",
      " 10  Outlet_Type                8523 non-null   object \n",
      " 11  Item_Outlet_Sales          8523 non-null   float64\n",
      "dtypes: float64(4), int64(1), object(7)\n",
      "memory usage: 799.2+ KB\n"
     ]
    }
   ],
   "source": [
    "raw_data.info()"
   ]
  },
  {
   "cell_type": "markdown",
   "metadata": {},
   "source": [
    "### So, data is full now"
   ]
  },
  {
   "cell_type": "markdown",
   "metadata": {},
   "source": [
    "## Dealing with categorical & numerical"
   ]
  },
  {
   "cell_type": "code",
   "execution_count": 217,
   "metadata": {},
   "outputs": [
    {
     "data": {
      "text/plain": [
       "Item_Visibility              7880\n",
       "Item_MRP                     5938\n",
       "Item_Outlet_Sales            3493\n",
       "Item_Identifier              1559\n",
       "Item_Weight                   415\n",
       "Item_Type                      16\n",
       "Outlet_Identifier              10\n",
       "Outlet_Establishment_Year       9\n",
       "Item_Fat_Content                5\n",
       "Outlet_Size                     4\n",
       "Outlet_Type                     4\n",
       "Outlet_Location_Type            3\n",
       "dtype: int64"
      ]
     },
     "execution_count": 217,
     "metadata": {},
     "output_type": "execute_result"
    }
   ],
   "source": [
    "cols = pd.Series()\n",
    "for col in raw_data.columns:\n",
    "    cols[col] = raw_data[col].nunique()\n",
    "cols.sort_values(ascending=False)"
   ]
  },
  {
   "cell_type": "code",
   "execution_count": 227,
   "metadata": {},
   "outputs": [
    {
     "data": {
      "text/plain": [
       "Outlet_Establishment_Year      int64\n",
       "Item_Weight                  float64\n",
       "Item_Visibility              float64\n",
       "Item_MRP                     float64\n",
       "Item_Outlet_Sales            float64\n",
       "Item_Identifier               object\n",
       "Item_Fat_Content              object\n",
       "Item_Type                     object\n",
       "Outlet_Identifier             object\n",
       "Outlet_Size                   object\n",
       "Outlet_Location_Type          object\n",
       "Outlet_Type                   object\n",
       "dtype: object"
      ]
     },
     "execution_count": 227,
     "metadata": {},
     "output_type": "execute_result"
    }
   ],
   "source": [
    "raw_data.dtypes.sort_values()"
   ]
  },
  {
   "cell_type": "code",
   "execution_count": 237,
   "metadata": {},
   "outputs": [
    {
     "data": {
      "text/plain": [
       "dtype('O')"
      ]
     },
     "execution_count": 237,
     "metadata": {},
     "output_type": "execute_result"
    }
   ],
   "source": []
  },
  {
   "cell_type": "code",
   "execution_count": null,
   "metadata": {},
   "outputs": [],
   "source": [
    "for col in raw_data.columns:\n",
    "    if "
   ]
  },
  {
   "cell_type": "code",
   "execution_count": 223,
   "metadata": {},
   "outputs": [
    {
     "name": "stdout",
     "output_type": "stream",
     "text": [
      "['Low Fat' 'Regular' 'low fat' 'LF' 'reg']\n",
      "['Dairy' 'Soft Drinks' 'Meat' 'Fruits and Vegetables' 'Household'\n",
      " 'Baking Goods' 'Snack Foods' 'Frozen Foods' 'Breakfast'\n",
      " 'Health and Hygiene' 'Hard Drinks' 'Canned' 'Breads' 'Starchy Foods'\n",
      " 'Others' 'Seafood']\n",
      "['OUT049' 'OUT018' 'OUT010' 'OUT013' 'OUT027' 'OUT045' 'OUT017' 'OUT046'\n",
      " 'OUT035' 'OUT019']\n",
      "[1999 2009 1998 1987 1985 2002 2007 1997 2004]\n",
      "['Medium' 'undefined' 'High' 'Small']\n",
      "['Tier 1' 'Tier 3' 'Tier 2']\n",
      "['Supermarket Type1' 'Supermarket Type2' 'Grocery Store'\n",
      " 'Supermarket Type3']\n"
     ]
    }
   ],
   "source": [
    "for col in cols.index:\n",
    "    if cols[col] < 100:\n",
    "        print(raw_data.loc[:,col].unique())"
   ]
  },
  {
   "cell_type": "markdown",
   "metadata": {},
   "source": [
    "## Analysis"
   ]
  },
  {
   "cell_type": "code",
   "execution_count": 170,
   "metadata": {},
   "outputs": [],
   "source": [
    "data = raw_data[['Outlet_Identifier', 'Item_Identifier', 'Item_Outlet_Sales', 'Item_Visibility', 'Item_MRP', 'Item_Weight', 'Item_Type', 'Item_Fat_Content', 'Outlet_Establishment_Year', 'Outlet_Type', 'Outlet_Size', 'Outlet_Location_Type']]"
   ]
  },
  {
   "cell_type": "code",
   "execution_count": 171,
   "metadata": {},
   "outputs": [],
   "source": [
    "goods = data[['Item_Identifier', 'Outlet_Identifier', 'Item_Outlet_Sales', 'Item_Visibility', 'Item_MRP', 'Item_Weight', 'Item_Type', 'Item_Fat_Content']].sort_values('Item_Identifier')"
   ]
  },
  {
   "cell_type": "code",
   "execution_count": 172,
   "metadata": {},
   "outputs": [
    {
     "data": {
      "text/html": [
       "<div>\n",
       "<style scoped>\n",
       "    .dataframe tbody tr th:only-of-type {\n",
       "        vertical-align: middle;\n",
       "    }\n",
       "\n",
       "    .dataframe tbody tr th {\n",
       "        vertical-align: top;\n",
       "    }\n",
       "\n",
       "    .dataframe thead th {\n",
       "        text-align: right;\n",
       "    }\n",
       "</style>\n",
       "<table border=\"1\" class=\"dataframe\">\n",
       "  <thead>\n",
       "    <tr style=\"text-align: right;\">\n",
       "      <th></th>\n",
       "      <th>Outlet_Establishment_Year</th>\n",
       "      <th>Outlet_Type</th>\n",
       "      <th>Outlet_Size</th>\n",
       "      <th>Outlet_Location_Type</th>\n",
       "    </tr>\n",
       "    <tr>\n",
       "      <th>Outlet_Identifier</th>\n",
       "      <th></th>\n",
       "      <th></th>\n",
       "      <th></th>\n",
       "      <th></th>\n",
       "    </tr>\n",
       "  </thead>\n",
       "  <tbody>\n",
       "    <tr>\n",
       "      <th>OUT010</th>\n",
       "      <td>1998</td>\n",
       "      <td>Grocery Store</td>\n",
       "      <td>undefined</td>\n",
       "      <td>Tier 3</td>\n",
       "    </tr>\n",
       "    <tr>\n",
       "      <th>OUT013</th>\n",
       "      <td>1987</td>\n",
       "      <td>Supermarket Type1</td>\n",
       "      <td>High</td>\n",
       "      <td>Tier 3</td>\n",
       "    </tr>\n",
       "    <tr>\n",
       "      <th>OUT017</th>\n",
       "      <td>2007</td>\n",
       "      <td>Supermarket Type1</td>\n",
       "      <td>undefined</td>\n",
       "      <td>Tier 2</td>\n",
       "    </tr>\n",
       "    <tr>\n",
       "      <th>OUT018</th>\n",
       "      <td>2009</td>\n",
       "      <td>Supermarket Type2</td>\n",
       "      <td>Medium</td>\n",
       "      <td>Tier 3</td>\n",
       "    </tr>\n",
       "    <tr>\n",
       "      <th>OUT019</th>\n",
       "      <td>1985</td>\n",
       "      <td>Grocery Store</td>\n",
       "      <td>Small</td>\n",
       "      <td>Tier 1</td>\n",
       "    </tr>\n",
       "    <tr>\n",
       "      <th>OUT027</th>\n",
       "      <td>1985</td>\n",
       "      <td>Supermarket Type3</td>\n",
       "      <td>Medium</td>\n",
       "      <td>Tier 3</td>\n",
       "    </tr>\n",
       "    <tr>\n",
       "      <th>OUT035</th>\n",
       "      <td>2004</td>\n",
       "      <td>Supermarket Type1</td>\n",
       "      <td>Small</td>\n",
       "      <td>Tier 2</td>\n",
       "    </tr>\n",
       "    <tr>\n",
       "      <th>OUT045</th>\n",
       "      <td>2002</td>\n",
       "      <td>Supermarket Type1</td>\n",
       "      <td>undefined</td>\n",
       "      <td>Tier 2</td>\n",
       "    </tr>\n",
       "    <tr>\n",
       "      <th>OUT046</th>\n",
       "      <td>1997</td>\n",
       "      <td>Supermarket Type1</td>\n",
       "      <td>Small</td>\n",
       "      <td>Tier 1</td>\n",
       "    </tr>\n",
       "    <tr>\n",
       "      <th>OUT049</th>\n",
       "      <td>1999</td>\n",
       "      <td>Supermarket Type1</td>\n",
       "      <td>Medium</td>\n",
       "      <td>Tier 1</td>\n",
       "    </tr>\n",
       "  </tbody>\n",
       "</table>\n",
       "</div>"
      ],
      "text/plain": [
       "                   Outlet_Establishment_Year        Outlet_Type Outlet_Size  \\\n",
       "Outlet_Identifier                                                             \n",
       "OUT010                                  1998      Grocery Store   undefined   \n",
       "OUT013                                  1987  Supermarket Type1        High   \n",
       "OUT017                                  2007  Supermarket Type1   undefined   \n",
       "OUT018                                  2009  Supermarket Type2      Medium   \n",
       "OUT019                                  1985      Grocery Store       Small   \n",
       "OUT027                                  1985  Supermarket Type3      Medium   \n",
       "OUT035                                  2004  Supermarket Type1       Small   \n",
       "OUT045                                  2002  Supermarket Type1   undefined   \n",
       "OUT046                                  1997  Supermarket Type1       Small   \n",
       "OUT049                                  1999  Supermarket Type1      Medium   \n",
       "\n",
       "                  Outlet_Location_Type  \n",
       "Outlet_Identifier                       \n",
       "OUT010                          Tier 3  \n",
       "OUT013                          Tier 3  \n",
       "OUT017                          Tier 2  \n",
       "OUT018                          Tier 3  \n",
       "OUT019                          Tier 1  \n",
       "OUT027                          Tier 3  \n",
       "OUT035                          Tier 2  \n",
       "OUT045                          Tier 2  \n",
       "OUT046                          Tier 1  \n",
       "OUT049                          Tier 1  "
      ]
     },
     "execution_count": 172,
     "metadata": {},
     "output_type": "execute_result"
    }
   ],
   "source": [
    "outlets = data[['Outlet_Identifier', 'Outlet_Establishment_Year', 'Outlet_Type', 'Outlet_Size', 'Outlet_Location_Type']].groupby(\"Outlet_Identifier\").first()\n",
    "outlets"
   ]
  },
  {
   "cell_type": "code",
   "execution_count": 173,
   "metadata": {},
   "outputs": [],
   "source": [
    "def get_outlet_info(key):\n",
    "    display(goods.loc[goods['Outlet_Identifier'] == key].drop(['Outlet_Identifier'], axis=1).sort_index())"
   ]
  },
  {
   "cell_type": "code",
   "execution_count": 174,
   "metadata": {},
   "outputs": [
    {
     "data": {
      "text/html": [
       "<div>\n",
       "<style scoped>\n",
       "    .dataframe tbody tr th:only-of-type {\n",
       "        vertical-align: middle;\n",
       "    }\n",
       "\n",
       "    .dataframe tbody tr th {\n",
       "        vertical-align: top;\n",
       "    }\n",
       "\n",
       "    .dataframe thead th {\n",
       "        text-align: right;\n",
       "    }\n",
       "</style>\n",
       "<table border=\"1\" class=\"dataframe\">\n",
       "  <thead>\n",
       "    <tr style=\"text-align: right;\">\n",
       "      <th></th>\n",
       "      <th>Item_Identifier</th>\n",
       "      <th>Item_Outlet_Sales</th>\n",
       "      <th>Item_Visibility</th>\n",
       "      <th>Item_MRP</th>\n",
       "      <th>Item_Weight</th>\n",
       "      <th>Item_Type</th>\n",
       "      <th>Item_Fat_Content</th>\n",
       "    </tr>\n",
       "  </thead>\n",
       "  <tbody>\n",
       "    <tr>\n",
       "      <th>0</th>\n",
       "      <td>FDA15</td>\n",
       "      <td>3735.1380</td>\n",
       "      <td>0.016047</td>\n",
       "      <td>249.8092</td>\n",
       "      <td>9.300</td>\n",
       "      <td>Dairy</td>\n",
       "      <td>Low Fat</td>\n",
       "    </tr>\n",
       "    <tr>\n",
       "      <th>2</th>\n",
       "      <td>FDN15</td>\n",
       "      <td>2097.2700</td>\n",
       "      <td>0.016760</td>\n",
       "      <td>141.6180</td>\n",
       "      <td>17.500</td>\n",
       "      <td>Meat</td>\n",
       "      <td>Low Fat</td>\n",
       "    </tr>\n",
       "    <tr>\n",
       "      <th>10</th>\n",
       "      <td>FDY07</td>\n",
       "      <td>1516.0266</td>\n",
       "      <td>0.000000</td>\n",
       "      <td>45.5402</td>\n",
       "      <td>11.800</td>\n",
       "      <td>Fruits and Vegetables</td>\n",
       "      <td>Low Fat</td>\n",
       "    </tr>\n",
       "    <tr>\n",
       "      <th>12</th>\n",
       "      <td>FDX32</td>\n",
       "      <td>1589.2646</td>\n",
       "      <td>0.100014</td>\n",
       "      <td>145.4786</td>\n",
       "      <td>15.100</td>\n",
       "      <td>Fruits and Vegetables</td>\n",
       "      <td>Regular</td>\n",
       "    </tr>\n",
       "    <tr>\n",
       "      <th>17</th>\n",
       "      <td>FDP49</td>\n",
       "      <td>718.3982</td>\n",
       "      <td>0.069196</td>\n",
       "      <td>54.3614</td>\n",
       "      <td>9.000</td>\n",
       "      <td>Breakfast</td>\n",
       "      <td>Regular</td>\n",
       "    </tr>\n",
       "    <tr>\n",
       "      <th>...</th>\n",
       "      <td>...</td>\n",
       "      <td>...</td>\n",
       "      <td>...</td>\n",
       "      <td>...</td>\n",
       "      <td>...</td>\n",
       "      <td>...</td>\n",
       "      <td>...</td>\n",
       "    </tr>\n",
       "    <tr>\n",
       "      <th>8451</th>\n",
       "      <td>FDK21</td>\n",
       "      <td>3254.4304</td>\n",
       "      <td>0.010028</td>\n",
       "      <td>249.6408</td>\n",
       "      <td>7.905</td>\n",
       "      <td>Snack Foods</td>\n",
       "      <td>Low Fat</td>\n",
       "    </tr>\n",
       "    <tr>\n",
       "      <th>8467</th>\n",
       "      <td>FDV31</td>\n",
       "      <td>3881.6140</td>\n",
       "      <td>0.000000</td>\n",
       "      <td>175.2370</td>\n",
       "      <td>9.800</td>\n",
       "      <td>Fruits and Vegetables</td>\n",
       "      <td>LF</td>\n",
       "    </tr>\n",
       "    <tr>\n",
       "      <th>8470</th>\n",
       "      <td>FDW27</td>\n",
       "      <td>1551.3140</td>\n",
       "      <td>0.151088</td>\n",
       "      <td>155.1314</td>\n",
       "      <td>5.860</td>\n",
       "      <td>Meat</td>\n",
       "      <td>Regular</td>\n",
       "    </tr>\n",
       "    <tr>\n",
       "      <th>8475</th>\n",
       "      <td>NCS17</td>\n",
       "      <td>378.1744</td>\n",
       "      <td>0.080627</td>\n",
       "      <td>92.5436</td>\n",
       "      <td>18.600</td>\n",
       "      <td>Health and Hygiene</td>\n",
       "      <td>Low Fat</td>\n",
       "    </tr>\n",
       "    <tr>\n",
       "      <th>8479</th>\n",
       "      <td>FDL10</td>\n",
       "      <td>2579.3092</td>\n",
       "      <td>0.039554</td>\n",
       "      <td>99.1042</td>\n",
       "      <td>8.395</td>\n",
       "      <td>Snack Foods</td>\n",
       "      <td>Low Fat</td>\n",
       "    </tr>\n",
       "  </tbody>\n",
       "</table>\n",
       "<p>930 rows × 7 columns</p>\n",
       "</div>"
      ],
      "text/plain": [
       "     Item_Identifier  Item_Outlet_Sales  Item_Visibility  Item_MRP  \\\n",
       "0              FDA15          3735.1380         0.016047  249.8092   \n",
       "2              FDN15          2097.2700         0.016760  141.6180   \n",
       "10             FDY07          1516.0266         0.000000   45.5402   \n",
       "12             FDX32          1589.2646         0.100014  145.4786   \n",
       "17             FDP49           718.3982         0.069196   54.3614   \n",
       "...              ...                ...              ...       ...   \n",
       "8451           FDK21          3254.4304         0.010028  249.6408   \n",
       "8467           FDV31          3881.6140         0.000000  175.2370   \n",
       "8470           FDW27          1551.3140         0.151088  155.1314   \n",
       "8475           NCS17           378.1744         0.080627   92.5436   \n",
       "8479           FDL10          2579.3092         0.039554   99.1042   \n",
       "\n",
       "      Item_Weight              Item_Type Item_Fat_Content  \n",
       "0           9.300                  Dairy          Low Fat  \n",
       "2          17.500                   Meat          Low Fat  \n",
       "10         11.800  Fruits and Vegetables          Low Fat  \n",
       "12         15.100  Fruits and Vegetables          Regular  \n",
       "17          9.000              Breakfast          Regular  \n",
       "...           ...                    ...              ...  \n",
       "8451        7.905            Snack Foods          Low Fat  \n",
       "8467        9.800  Fruits and Vegetables               LF  \n",
       "8470        5.860                   Meat          Regular  \n",
       "8475       18.600     Health and Hygiene          Low Fat  \n",
       "8479        8.395            Snack Foods          Low Fat  \n",
       "\n",
       "[930 rows x 7 columns]"
      ]
     },
     "metadata": {},
     "output_type": "display_data"
    }
   ],
   "source": [
    "get_outlet_info('OUT049')"
   ]
  }
 ],
 "metadata": {
  "kernelspec": {
   "display_name": "Python 3",
   "language": "python",
   "name": "python3"
  },
  "language_info": {
   "codemirror_mode": {
    "name": "ipython",
    "version": 3
   },
   "file_extension": ".py",
   "mimetype": "text/x-python",
   "name": "python",
   "nbconvert_exporter": "python",
   "pygments_lexer": "ipython3",
   "version": "3.11.6"
  }
 },
 "nbformat": 4,
 "nbformat_minor": 2
}
