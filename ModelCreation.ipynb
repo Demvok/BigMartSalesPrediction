{
 "cells": [
  {
   "cell_type": "code",
   "execution_count": 112,
   "metadata": {},
   "outputs": [],
   "source": [
    "import pyspark as sp\n",
    "from pyspark.sql import SparkSession\n",
    "from pyspark.ml.feature import StringIndexer\n",
    "from pyspark.ml.feature import VectorAssembler\n",
    "import pyspark.ml as ml\n",
    "from pyspark.ml.regression import LinearRegression\n",
    "spark = SparkSession.builder.appName('BigMartSales').getOrCreate()"
   ]
  },
  {
   "cell_type": "code",
   "execution_count": 79,
   "metadata": {},
   "outputs": [
    {
     "data": {
      "text/html": [
       "\n",
       "            <div>\n",
       "                <p><b>SparkSession - in-memory</b></p>\n",
       "                \n",
       "        <div>\n",
       "            <p><b>SparkContext</b></p>\n",
       "\n",
       "            <p><a href=\"http://DESKTOP-CBNV54N:4040\">Spark UI</a></p>\n",
       "\n",
       "            <dl>\n",
       "              <dt>Version</dt>\n",
       "                <dd><code>v3.5.0</code></dd>\n",
       "              <dt>Master</dt>\n",
       "                <dd><code>local[*]</code></dd>\n",
       "              <dt>AppName</dt>\n",
       "                <dd><code>BigMartSales</code></dd>\n",
       "            </dl>\n",
       "        </div>\n",
       "        \n",
       "            </div>\n",
       "        "
      ],
      "text/plain": [
       "<pyspark.sql.session.SparkSession at 0x15be4222200>"
      ]
     },
     "execution_count": 79,
     "metadata": {},
     "output_type": "execute_result"
    }
   ],
   "source": [
    "spark"
   ]
  },
  {
   "cell_type": "code",
   "execution_count": 80,
   "metadata": {},
   "outputs": [],
   "source": [
    "df = spark.read.csv('data/cleaned_train.csv', header=True, inferSchema=True)"
   ]
  },
  {
   "cell_type": "code",
   "execution_count": 115,
   "metadata": {},
   "outputs": [],
   "source": [
    "# import pandas as pd \n",
    "# from pyspark.ml.regression import DecisionTreeRegressor\n",
    "\n",
    "# df_stats = pd.read_csv('constants/stats.csv', index_col='stat')\n",
    "# Z_SCORE = df_stats.loc['z_score'].values[0]\n",
    "# STD = df_stats.loc['std'].values[0]\n",
    "\n",
    "# quick_fit = spark.read.csv('constants/quick_fit.csv', header=True, inferSchema=True).drop('_c0')\n",
    "# toVector = ['Item_Weight', 'Item_Fat_Content', 'Item_Visibility', 'Item_Type', 'Item_MRP', 'outletAge', 'Outlet_Size', 'Outlet_Location_Type', 'Outlet_Type', 'Item_Outlet_Sales']\n",
    "# featuresVector = VectorAssembler(inputCols=toVector,outputCol=\"featuresVector\")\n",
    "# quick_fit = featuresVector.transform(quick_fit)\n",
    "# quick_fit = quick_fit.select('featuresVector', 'Item_Outlet_Sales')\n",
    "# model = DecisionTreeRegressor(featuresCol='featuresVector', labelCol='Item_Outlet_Sales', maxBins=2048)\n",
    "# model = model.fit(quick_fit)"
   ]
  },
  {
   "cell_type": "code",
   "execution_count": 116,
   "metadata": {},
   "outputs": [],
   "source": [
    "# def getInterval(pred):\n",
    "#     return (pred - Z_SCORE*STD, pred + Z_SCORE*STD)"
   ]
  },
  {
   "cell_type": "code",
   "execution_count": 129,
   "metadata": {},
   "outputs": [],
   "source": [
    "# from pyspark.ml.functions import array_to_vector\n",
    "# params = str([100, 23, 0, 5, 580, 15, 1, 2, 0])\n",
    "# item = array_to_vector(params)"
   ]
  },
  {
   "cell_type": "code",
   "execution_count": 130,
   "metadata": {},
   "outputs": [
    {
     "data": {
      "text/plain": [
       "Column<'UDF([100, 23, 0, 5, 580, 15, 1, 2, 0])'>"
      ]
     },
     "execution_count": 130,
     "metadata": {},
     "output_type": "execute_result"
    }
   ],
   "source": [
    "# item"
   ]
  },
  {
   "cell_type": "code",
   "execution_count": 131,
   "metadata": {},
   "outputs": [
    {
     "ename": "PySparkTypeError",
     "evalue": "[NOT_ITERABLE] Column is not iterable.",
     "output_type": "error",
     "traceback": [
      "\u001b[1;31m---------------------------------------------------------------------------\u001b[0m",
      "\u001b[1;31mPySparkTypeError\u001b[0m                          Traceback (most recent call last)",
      "Cell \u001b[1;32mIn[131], line 1\u001b[0m\n\u001b[1;32m----> 1\u001b[0m prediction \u001b[38;5;241m=\u001b[39m \u001b[43mmodel\u001b[49m\u001b[38;5;241;43m.\u001b[39;49m\u001b[43mtransform\u001b[49m\u001b[43m(\u001b[49m\u001b[43mitem\u001b[49m\u001b[43m)\u001b[49m\n\u001b[0;32m      2\u001b[0m \u001b[38;5;28mprint\u001b[39m(\u001b[38;5;124mf\u001b[39m\u001b[38;5;124m\"\u001b[39m\u001b[38;5;124mInterval for this item is \u001b[39m\u001b[38;5;132;01m{\u001b[39;00mgetInterval(prediction)\u001b[38;5;132;01m}\u001b[39;00m\u001b[38;5;124m\"\u001b[39m)\n",
      "File \u001b[1;32mc:\\Users\\Ivan Demkov\\AppData\\Local\\Programs\\Python\\Python310\\lib\\site-packages\\pyspark\\ml\\base.py:262\u001b[0m, in \u001b[0;36mTransformer.transform\u001b[1;34m(self, dataset, params)\u001b[0m\n\u001b[0;32m    260\u001b[0m         \u001b[38;5;28;01mreturn\u001b[39;00m \u001b[38;5;28mself\u001b[39m\u001b[38;5;241m.\u001b[39mcopy(params)\u001b[38;5;241m.\u001b[39m_transform(dataset)\n\u001b[0;32m    261\u001b[0m     \u001b[38;5;28;01melse\u001b[39;00m:\n\u001b[1;32m--> 262\u001b[0m         \u001b[38;5;28;01mreturn\u001b[39;00m \u001b[38;5;28;43mself\u001b[39;49m\u001b[38;5;241;43m.\u001b[39;49m\u001b[43m_transform\u001b[49m\u001b[43m(\u001b[49m\u001b[43mdataset\u001b[49m\u001b[43m)\u001b[49m\n\u001b[0;32m    263\u001b[0m \u001b[38;5;28;01melse\u001b[39;00m:\n\u001b[0;32m    264\u001b[0m     \u001b[38;5;28;01mraise\u001b[39;00m \u001b[38;5;167;01mTypeError\u001b[39;00m(\u001b[38;5;124m\"\u001b[39m\u001b[38;5;124mParams must be a param map but got \u001b[39m\u001b[38;5;132;01m%s\u001b[39;00m\u001b[38;5;124m.\u001b[39m\u001b[38;5;124m\"\u001b[39m \u001b[38;5;241m%\u001b[39m \u001b[38;5;28mtype\u001b[39m(params))\n",
      "File \u001b[1;32mc:\\Users\\Ivan Demkov\\AppData\\Local\\Programs\\Python\\Python310\\lib\\site-packages\\pyspark\\ml\\wrapper.py:398\u001b[0m, in \u001b[0;36mJavaTransformer._transform\u001b[1;34m(self, dataset)\u001b[0m\n\u001b[0;32m    395\u001b[0m \u001b[38;5;28;01massert\u001b[39;00m \u001b[38;5;28mself\u001b[39m\u001b[38;5;241m.\u001b[39m_java_obj \u001b[38;5;129;01mis\u001b[39;00m \u001b[38;5;129;01mnot\u001b[39;00m \u001b[38;5;28;01mNone\u001b[39;00m\n\u001b[0;32m    397\u001b[0m \u001b[38;5;28mself\u001b[39m\u001b[38;5;241m.\u001b[39m_transfer_params_to_java()\n\u001b[1;32m--> 398\u001b[0m \u001b[38;5;28;01mreturn\u001b[39;00m DataFrame(\u001b[38;5;28;43mself\u001b[39;49m\u001b[38;5;241;43m.\u001b[39;49m\u001b[43m_java_obj\u001b[49m\u001b[38;5;241;43m.\u001b[39;49m\u001b[43mtransform\u001b[49m\u001b[43m(\u001b[49m\u001b[43mdataset\u001b[49m\u001b[38;5;241;43m.\u001b[39;49m\u001b[43m_jdf\u001b[49m\u001b[43m)\u001b[49m, dataset\u001b[38;5;241m.\u001b[39msparkSession)\n",
      "File \u001b[1;32mc:\\Users\\Ivan Demkov\\AppData\\Local\\Programs\\Python\\Python310\\lib\\site-packages\\py4j\\java_gateway.py:1314\u001b[0m, in \u001b[0;36mJavaMember.__call__\u001b[1;34m(self, *args)\u001b[0m\n\u001b[0;32m   1313\u001b[0m \u001b[38;5;28;01mdef\u001b[39;00m \u001b[38;5;21m__call__\u001b[39m(\u001b[38;5;28mself\u001b[39m, \u001b[38;5;241m*\u001b[39margs):\n\u001b[1;32m-> 1314\u001b[0m     args_command, temp_args \u001b[38;5;241m=\u001b[39m \u001b[38;5;28;43mself\u001b[39;49m\u001b[38;5;241;43m.\u001b[39;49m\u001b[43m_build_args\u001b[49m\u001b[43m(\u001b[49m\u001b[38;5;241;43m*\u001b[39;49m\u001b[43margs\u001b[49m\u001b[43m)\u001b[49m\n\u001b[0;32m   1316\u001b[0m     command \u001b[38;5;241m=\u001b[39m proto\u001b[38;5;241m.\u001b[39mCALL_COMMAND_NAME \u001b[38;5;241m+\u001b[39m\\\n\u001b[0;32m   1317\u001b[0m         \u001b[38;5;28mself\u001b[39m\u001b[38;5;241m.\u001b[39mcommand_header \u001b[38;5;241m+\u001b[39m\\\n\u001b[0;32m   1318\u001b[0m         args_command \u001b[38;5;241m+\u001b[39m\\\n\u001b[0;32m   1319\u001b[0m         proto\u001b[38;5;241m.\u001b[39mEND_COMMAND_PART\n\u001b[0;32m   1321\u001b[0m     answer \u001b[38;5;241m=\u001b[39m \u001b[38;5;28mself\u001b[39m\u001b[38;5;241m.\u001b[39mgateway_client\u001b[38;5;241m.\u001b[39msend_command(command)\n",
      "File \u001b[1;32mc:\\Users\\Ivan Demkov\\AppData\\Local\\Programs\\Python\\Python310\\lib\\site-packages\\py4j\\java_gateway.py:1277\u001b[0m, in \u001b[0;36mJavaMember._build_args\u001b[1;34m(self, *args)\u001b[0m\n\u001b[0;32m   1275\u001b[0m \u001b[38;5;28;01mdef\u001b[39;00m \u001b[38;5;21m_build_args\u001b[39m(\u001b[38;5;28mself\u001b[39m, \u001b[38;5;241m*\u001b[39margs):\n\u001b[0;32m   1276\u001b[0m     \u001b[38;5;28;01mif\u001b[39;00m \u001b[38;5;28mself\u001b[39m\u001b[38;5;241m.\u001b[39mconverters \u001b[38;5;129;01mis\u001b[39;00m \u001b[38;5;129;01mnot\u001b[39;00m \u001b[38;5;28;01mNone\u001b[39;00m \u001b[38;5;129;01mand\u001b[39;00m \u001b[38;5;28mlen\u001b[39m(\u001b[38;5;28mself\u001b[39m\u001b[38;5;241m.\u001b[39mconverters) \u001b[38;5;241m>\u001b[39m \u001b[38;5;241m0\u001b[39m:\n\u001b[1;32m-> 1277\u001b[0m         (new_args, temp_args) \u001b[38;5;241m=\u001b[39m \u001b[38;5;28;43mself\u001b[39;49m\u001b[38;5;241;43m.\u001b[39;49m\u001b[43m_get_args\u001b[49m\u001b[43m(\u001b[49m\u001b[43margs\u001b[49m\u001b[43m)\u001b[49m\n\u001b[0;32m   1278\u001b[0m     \u001b[38;5;28;01melse\u001b[39;00m:\n\u001b[0;32m   1279\u001b[0m         new_args \u001b[38;5;241m=\u001b[39m args\n",
      "File \u001b[1;32mc:\\Users\\Ivan Demkov\\AppData\\Local\\Programs\\Python\\Python310\\lib\\site-packages\\py4j\\java_gateway.py:1264\u001b[0m, in \u001b[0;36mJavaMember._get_args\u001b[1;34m(self, args)\u001b[0m\n\u001b[0;32m   1262\u001b[0m \u001b[38;5;28;01mfor\u001b[39;00m converter \u001b[38;5;129;01min\u001b[39;00m \u001b[38;5;28mself\u001b[39m\u001b[38;5;241m.\u001b[39mgateway_client\u001b[38;5;241m.\u001b[39mconverters:\n\u001b[0;32m   1263\u001b[0m     \u001b[38;5;28;01mif\u001b[39;00m converter\u001b[38;5;241m.\u001b[39mcan_convert(arg):\n\u001b[1;32m-> 1264\u001b[0m         temp_arg \u001b[38;5;241m=\u001b[39m \u001b[43mconverter\u001b[49m\u001b[38;5;241;43m.\u001b[39;49m\u001b[43mconvert\u001b[49m\u001b[43m(\u001b[49m\u001b[43marg\u001b[49m\u001b[43m,\u001b[49m\u001b[43m \u001b[49m\u001b[38;5;28;43mself\u001b[39;49m\u001b[38;5;241;43m.\u001b[39;49m\u001b[43mgateway_client\u001b[49m\u001b[43m)\u001b[49m\n\u001b[0;32m   1265\u001b[0m         temp_args\u001b[38;5;241m.\u001b[39mappend(temp_arg)\n\u001b[0;32m   1266\u001b[0m         new_args\u001b[38;5;241m.\u001b[39mappend(temp_arg)\n",
      "File \u001b[1;32mc:\\Users\\Ivan Demkov\\AppData\\Local\\Programs\\Python\\Python310\\lib\\site-packages\\py4j\\java_collections.py:510\u001b[0m, in \u001b[0;36mListConverter.convert\u001b[1;34m(self, object, gateway_client)\u001b[0m\n\u001b[0;32m    508\u001b[0m ArrayList \u001b[38;5;241m=\u001b[39m JavaClass(\u001b[38;5;124m\"\u001b[39m\u001b[38;5;124mjava.util.ArrayList\u001b[39m\u001b[38;5;124m\"\u001b[39m, gateway_client)\n\u001b[0;32m    509\u001b[0m java_list \u001b[38;5;241m=\u001b[39m ArrayList()\n\u001b[1;32m--> 510\u001b[0m \u001b[38;5;28;01mfor\u001b[39;00m element \u001b[38;5;129;01min\u001b[39;00m \u001b[38;5;28mobject\u001b[39m:\n\u001b[0;32m    511\u001b[0m     java_list\u001b[38;5;241m.\u001b[39madd(element)\n\u001b[0;32m    512\u001b[0m \u001b[38;5;28;01mreturn\u001b[39;00m java_list\n",
      "File \u001b[1;32mc:\\Users\\Ivan Demkov\\AppData\\Local\\Programs\\Python\\Python310\\lib\\site-packages\\pyspark\\sql\\column.py:718\u001b[0m, in \u001b[0;36mColumn.__iter__\u001b[1;34m(self)\u001b[0m\n\u001b[0;32m    717\u001b[0m \u001b[38;5;28;01mdef\u001b[39;00m \u001b[38;5;21m__iter__\u001b[39m(\u001b[38;5;28mself\u001b[39m) \u001b[38;5;241m-\u001b[39m\u001b[38;5;241m>\u001b[39m \u001b[38;5;28;01mNone\u001b[39;00m:\n\u001b[1;32m--> 718\u001b[0m     \u001b[38;5;28;01mraise\u001b[39;00m PySparkTypeError(\n\u001b[0;32m    719\u001b[0m         error_class\u001b[38;5;241m=\u001b[39m\u001b[38;5;124m\"\u001b[39m\u001b[38;5;124mNOT_ITERABLE\u001b[39m\u001b[38;5;124m\"\u001b[39m, message_parameters\u001b[38;5;241m=\u001b[39m{\u001b[38;5;124m\"\u001b[39m\u001b[38;5;124mobjectName\u001b[39m\u001b[38;5;124m\"\u001b[39m: \u001b[38;5;124m\"\u001b[39m\u001b[38;5;124mColumn\u001b[39m\u001b[38;5;124m\"\u001b[39m}\n\u001b[0;32m    720\u001b[0m     )\n",
      "\u001b[1;31mPySparkTypeError\u001b[0m: [NOT_ITERABLE] Column is not iterable."
     ]
    }
   ],
   "source": [
    "# prediction = model.transform(item)\n",
    "# print(f\"Interval for this item is {getInterval(prediction)}\")"
   ]
  },
  {
   "cell_type": "code",
   "execution_count": 111,
   "metadata": {},
   "outputs": [
    {
     "name": "stdout",
     "output_type": "stream",
     "text": [
      "+--------------------+-----------------+\n",
      "|      featuresVector|Item_Outlet_Sales|\n",
      "+--------------------+-----------------+\n",
      "|[9.3,0.0,0.016047...|         3735.138|\n",
      "|[5.92,1.0,0.01927...|         443.4228|\n",
      "|[17.5,0.0,0.01676...|          2097.27|\n",
      "|[19.2,1.0,0.0,6.0...|           732.38|\n",
      "|[8.93,0.0,0.0,9.0...|         994.7052|\n",
      "|[10.395,1.0,0.0,0...|         556.6088|\n",
      "|[13.65,1.0,0.0127...|         343.5528|\n",
      "|[19.0,0.0,0.12746...|        4022.7636|\n",
      "|[16.2,1.0,0.01668...|        1076.5986|\n",
      "|[19.2,1.0,0.09444...|         4710.535|\n",
      "|[11.8,0.0,0.0,6.0...|        1516.0266|\n",
      "|[18.5,1.0,0.04546...|         2187.153|\n",
      "|[15.1,1.0,0.10001...|        1589.2646|\n",
      "|[17.6,1.0,0.04725...|        2145.2076|\n",
      "|[16.35,0.0,0.0680...|         1977.426|\n",
      "|[9.0,1.0,0.069088...|        1547.3192|\n",
      "|[11.8,0.0,0.00859...|        1621.8888|\n",
      "|[9.0,1.0,0.069196...|         718.3982|\n",
      "|[8.26,0.0,0.03423...|         2303.668|\n",
      "|[13.35,0.0,0.1024...|        2748.4224|\n",
      "+--------------------+-----------------+\n",
      "only showing top 20 rows\n",
      "\n"
     ]
    }
   ],
   "source": [
    "df.show()"
   ]
  },
  {
   "cell_type": "code",
   "execution_count": 81,
   "metadata": {},
   "outputs": [
    {
     "name": "stdout",
     "output_type": "stream",
     "text": [
      "+---------------+-----------+----------------+---------------+--------------------+--------+-----------------+---------+-----------+--------------------+-----------+-----------------+\n",
      "|Item_Identifier|Item_Weight|Item_Fat_Content|Item_Visibility|           Item_Type|Item_MRP|Outlet_Identifier|outletAge|Outlet_Size|Outlet_Location_Type|Outlet_Type|Item_Outlet_Sales|\n",
      "+---------------+-----------+----------------+---------------+--------------------+--------+-----------------+---------+-----------+--------------------+-----------+-----------------+\n",
      "|          FDA15|        9.3|         Low Fat|    0.016047301|               Dairy|249.8092|           OUT049|       19|     Medium|                   1|         S1|         3735.138|\n",
      "|          DRC01|       5.92|         Regular|    0.019278216|         Soft Drinks| 48.2692|           OUT018|        9|     Medium|                   3|         S2|         443.4228|\n",
      "|          FDN15|       17.5|         Low Fat|    0.016760075|                Meat| 141.618|           OUT049|       19|     Medium|                   1|         S1|          2097.27|\n",
      "|          FDX07|       19.2|         Regular|            0.0|Fruits and Vegeta...| 182.095|           OUT010|       20|  undefined|                   3|          G|           732.38|\n",
      "|          NCD19|       8.93|         Low Fat|            0.0|           Household| 53.8614|           OUT013|       31|       High|                   3|         S1|         994.7052|\n",
      "|          FDP36|     10.395|         Regular|            0.0|        Baking Goods| 51.4008|           OUT018|        9|     Medium|                   3|         S2|         556.6088|\n",
      "|          FDO10|      13.65|         Regular|    0.012741089|         Snack Foods| 57.6588|           OUT013|       31|       High|                   3|         S1|         343.5528|\n",
      "|          FDP10|       19.0|         Low Fat|    0.127469857|         Snack Foods|107.7622|           OUT027|       33|     Medium|                   3|         S3|        4022.7636|\n",
      "|          FDH17|       16.2|         Regular|    0.016687114|        Frozen Foods| 96.9726|           OUT045|       16|  undefined|                   2|         S1|        1076.5986|\n",
      "|          FDU28|       19.2|         Regular|     0.09444959|        Frozen Foods|187.8214|           OUT017|       11|  undefined|                   2|         S1|         4710.535|\n",
      "|          FDY07|       11.8|         Low Fat|            0.0|Fruits and Vegeta...| 45.5402|           OUT049|       19|     Medium|                   1|         S1|        1516.0266|\n",
      "|          FDA03|       18.5|         Regular|    0.045463773|               Dairy|144.1102|           OUT046|       21|      Small|                   1|         S1|         2187.153|\n",
      "|          FDX32|       15.1|         Regular|      0.1000135|Fruits and Vegeta...|145.4786|           OUT049|       19|     Medium|                   1|         S1|        1589.2646|\n",
      "|          FDS46|       17.6|         Regular|    0.047257328|         Snack Foods|119.6782|           OUT046|       21|      Small|                   1|         S1|        2145.2076|\n",
      "|          FDF32|      16.35|         Low Fat|      0.0680243|Fruits and Vegeta...|196.4426|           OUT013|       31|       High|                   3|         S1|         1977.426|\n",
      "|          FDP49|        9.0|         Regular|    0.069088961|           Breakfast| 56.3614|           OUT046|       21|      Small|                   1|         S1|        1547.3192|\n",
      "|          NCB42|       11.8|         Low Fat|    0.008596051|  Health and Hygiene|115.3492|           OUT018|        9|     Medium|                   3|         S2|        1621.8888|\n",
      "|          FDP49|        9.0|         Regular|    0.069196376|           Breakfast| 54.3614|           OUT049|       19|     Medium|                   1|         S1|         718.3982|\n",
      "|          DRI11|       8.26|         Low Fat|    0.034237682|         Hard Drinks|113.2834|           OUT027|       33|     Medium|                   3|         S3|         2303.668|\n",
      "|          FDU02|      13.35|         Low Fat|     0.10249212|               Dairy|230.5352|           OUT035|       14|      Small|                   2|         S1|        2748.4224|\n",
      "+---------------+-----------+----------------+---------------+--------------------+--------+-----------------+---------+-----------+--------------------+-----------+-----------------+\n",
      "only showing top 20 rows\n",
      "\n"
     ]
    }
   ],
   "source": [
    "df.show()"
   ]
  },
  {
   "cell_type": "code",
   "execution_count": 82,
   "metadata": {},
   "outputs": [
    {
     "name": "stdout",
     "output_type": "stream",
     "text": [
      "root\n",
      " |-- Item_Identifier: string (nullable = true)\n",
      " |-- Item_Weight: double (nullable = true)\n",
      " |-- Item_Fat_Content: string (nullable = true)\n",
      " |-- Item_Visibility: double (nullable = true)\n",
      " |-- Item_Type: string (nullable = true)\n",
      " |-- Item_MRP: double (nullable = true)\n",
      " |-- Outlet_Identifier: string (nullable = true)\n",
      " |-- outletAge: integer (nullable = true)\n",
      " |-- Outlet_Size: string (nullable = true)\n",
      " |-- Outlet_Location_Type: integer (nullable = true)\n",
      " |-- Outlet_Type: string (nullable = true)\n",
      " |-- Item_Outlet_Sales: double (nullable = true)\n",
      "\n"
     ]
    }
   ],
   "source": [
    "df.printSchema()"
   ]
  },
  {
   "cell_type": "code",
   "execution_count": 83,
   "metadata": {},
   "outputs": [
    {
     "name": "stdout",
     "output_type": "stream",
     "text": [
      "+-------+---------------+------------------+----------------+-------------------+-------------+-----------------+-----------------+------------------+-----------+--------------------+-----------+------------------+\n",
      "|summary|Item_Identifier|       Item_Weight|Item_Fat_Content|    Item_Visibility|    Item_Type|         Item_MRP|Outlet_Identifier|         outletAge|Outlet_Size|Outlet_Location_Type|Outlet_Type| Item_Outlet_Sales|\n",
      "+-------+---------------+------------------+----------------+-------------------+-------------+-----------------+-----------------+------------------+-----------+--------------------+-----------+------------------+\n",
      "|  count|           8523|              8523|            8523|               8523|         8523|             8523|             8523|              8523|       8523|                8523|       8523|              8523|\n",
      "|   mean|           NULL|12.875361375103129|            NULL|0.06613202877895127|         NULL|140.9927819781768|             NULL|20.168133286401503|       NULL|  2.1128710547929135|       NULL|2181.2889135750365|\n",
      "| stddev|           NULL| 4.645030663735811|            NULL|0.05159782232113514|         NULL|62.27506651219047|             NULL| 8.371760408092657|       NULL|  0.8127574995201172|       NULL|1706.4996157338403|\n",
      "|    min|          DRA12|             4.555|         Low Fat|                0.0| Baking Goods|            31.29|           OUT010|                 9|       High|                   1|          G|             33.29|\n",
      "|    max|          NCZ54|             21.35|         Regular|        0.328390948|Starchy Foods|         266.8884|           OUT049|                33|  undefined|                   3|         S3|        13086.9648|\n",
      "+-------+---------------+------------------+----------------+-------------------+-------------+-----------------+-----------------+------------------+-----------+--------------------+-----------+------------------+\n",
      "\n"
     ]
    }
   ],
   "source": [
    "df.describe().show()"
   ]
  },
  {
   "cell_type": "code",
   "execution_count": 84,
   "metadata": {},
   "outputs": [
    {
     "data": {
      "text/plain": [
       "DataFrame[Item_Weight: double, Item_Fat_Content: string, Item_Visibility: double, Item_Type: string, Item_MRP: double, Outlet_Identifier: string, outletAge: int, Outlet_Size: string, Outlet_Location_Type: int, Outlet_Type: string, Item_Outlet_Sales: double]"
      ]
     },
     "execution_count": 84,
     "metadata": {},
     "output_type": "execute_result"
    }
   ],
   "source": [
    "df.drop('Item_Identifier')"
   ]
  },
  {
   "cell_type": "code",
   "execution_count": 85,
   "metadata": {},
   "outputs": [],
   "source": [
    "to_encode = {'Item_Fat_Content': 'isLF',\n",
    "             'Item_Type': 'itemTypeID',\n",
    "             'Outlet_Size': 'outletSize',\n",
    "             'Outlet_Type': 'outletType'}\n",
    "\n",
    "for column, new_column in to_encode.items():\n",
    "    indexer = StringIndexer(inputCol=column, outputCol=new_column)\n",
    "    df = indexer.fit(df).transform(df)"
   ]
  },
  {
   "cell_type": "code",
   "execution_count": 86,
   "metadata": {},
   "outputs": [],
   "source": [
    "df = df.drop('Item_Identifier').drop('Item_Fat_Content').drop('Item_Type').drop('Outlet_Size').drop('Outlet_Identifier').drop('Outlet_Type')"
   ]
  },
  {
   "cell_type": "code",
   "execution_count": 87,
   "metadata": {},
   "outputs": [
    {
     "name": "stdout",
     "output_type": "stream",
     "text": [
      "+-----------+---------------+--------+---------+--------------------+-----------------+----+----------+----------+----------+\n",
      "|Item_Weight|Item_Visibility|Item_MRP|outletAge|Outlet_Location_Type|Item_Outlet_Sales|isLF|itemTypeID|outletSize|outletType|\n",
      "+-----------+---------------+--------+---------+--------------------+-----------------+----+----------+----------+----------+\n",
      "|        9.3|    0.016047301|249.8092|       19|                   1|         3735.138| 0.0|       4.0|       0.0|       0.0|\n",
      "|       5.92|    0.019278216| 48.2692|        9|                   3|         443.4228| 1.0|       8.0|       0.0|       3.0|\n",
      "|       17.5|    0.016760075| 141.618|       19|                   1|          2097.27| 0.0|       9.0|       0.0|       0.0|\n",
      "|       19.2|            0.0| 182.095|       20|                   3|           732.38| 1.0|       0.0|       1.0|       1.0|\n",
      "|       8.93|            0.0| 53.8614|       31|                   3|         994.7052| 0.0|       2.0|       3.0|       0.0|\n",
      "|     10.395|            0.0| 51.4008|        9|                   3|         556.6088| 1.0|       6.0|       0.0|       3.0|\n",
      "|      13.65|    0.012741089| 57.6588|       31|                   3|         343.5528| 1.0|       1.0|       3.0|       0.0|\n",
      "|       19.0|    0.127469857|107.7622|       33|                   3|        4022.7636| 0.0|       1.0|       0.0|       2.0|\n",
      "|       16.2|    0.016687114| 96.9726|       16|                   2|        1076.5986| 1.0|       3.0|       1.0|       0.0|\n",
      "|       19.2|     0.09444959|187.8214|       11|                   2|         4710.535| 1.0|       3.0|       1.0|       0.0|\n",
      "|       11.8|            0.0| 45.5402|       19|                   1|        1516.0266| 0.0|       0.0|       0.0|       0.0|\n",
      "|       18.5|    0.045463773|144.1102|       21|                   1|         2187.153| 1.0|       4.0|       2.0|       0.0|\n",
      "|       15.1|      0.1000135|145.4786|       19|                   1|        1589.2646| 1.0|       0.0|       0.0|       0.0|\n",
      "|       17.6|    0.047257328|119.6782|       21|                   1|        2145.2076| 1.0|       1.0|       2.0|       0.0|\n",
      "|      16.35|      0.0680243|196.4426|       31|                   3|         1977.426| 0.0|       0.0|       3.0|       0.0|\n",
      "|        9.0|    0.069088961| 56.3614|       21|                   1|        1547.3192| 1.0|      14.0|       2.0|       0.0|\n",
      "|       11.8|    0.008596051|115.3492|        9|                   3|        1621.8888| 0.0|       7.0|       0.0|       3.0|\n",
      "|        9.0|    0.069196376| 54.3614|       19|                   1|         718.3982| 1.0|      14.0|       0.0|       0.0|\n",
      "|       8.26|    0.034237682|113.2834|       33|                   3|         2303.668| 0.0|      11.0|       0.0|       2.0|\n",
      "|      13.35|     0.10249212|230.5352|       14|                   2|        2748.4224| 0.0|       4.0|       2.0|       0.0|\n",
      "+-----------+---------------+--------+---------+--------------------+-----------------+----+----------+----------+----------+\n",
      "only showing top 20 rows\n",
      "\n"
     ]
    }
   ],
   "source": [
    "df.show()"
   ]
  },
  {
   "cell_type": "code",
   "execution_count": 88,
   "metadata": {},
   "outputs": [
    {
     "name": "stdout",
     "output_type": "stream",
     "text": [
      "root\n",
      " |-- Item_Weight: double (nullable = true)\n",
      " |-- Item_Visibility: double (nullable = true)\n",
      " |-- Item_MRP: double (nullable = true)\n",
      " |-- outletAge: integer (nullable = true)\n",
      " |-- Outlet_Location_Type: integer (nullable = true)\n",
      " |-- Item_Outlet_Sales: double (nullable = true)\n",
      " |-- isLF: double (nullable = false)\n",
      " |-- itemTypeID: double (nullable = false)\n",
      " |-- outletSize: double (nullable = false)\n",
      " |-- outletType: double (nullable = false)\n",
      "\n"
     ]
    }
   ],
   "source": [
    "df.printSchema()"
   ]
  },
  {
   "cell_type": "code",
   "execution_count": 89,
   "metadata": {},
   "outputs": [
    {
     "name": "stdout",
     "output_type": "stream",
     "text": [
      "+-----------+---------------+--------+---------+--------------------+-----------------+----+----------+----------+----------+\n",
      "|Item_Weight|Item_Visibility|Item_MRP|outletAge|Outlet_Location_Type|Item_Outlet_Sales|isLF|itemTypeID|outletSize|outletType|\n",
      "+-----------+---------------+--------+---------+--------------------+-----------------+----+----------+----------+----------+\n",
      "|        9.3|    0.016047301|249.8092|       19|                   1|         3735.138| 0.0|       4.0|       0.0|       0.0|\n",
      "|       5.92|    0.019278216| 48.2692|        9|                   3|         443.4228| 1.0|       8.0|       0.0|       3.0|\n",
      "|       17.5|    0.016760075| 141.618|       19|                   1|          2097.27| 0.0|       9.0|       0.0|       0.0|\n",
      "|       19.2|            0.0| 182.095|       20|                   3|           732.38| 1.0|       0.0|       1.0|       1.0|\n",
      "|       8.93|            0.0| 53.8614|       31|                   3|         994.7052| 0.0|       2.0|       3.0|       0.0|\n",
      "|     10.395|            0.0| 51.4008|        9|                   3|         556.6088| 1.0|       6.0|       0.0|       3.0|\n",
      "|      13.65|    0.012741089| 57.6588|       31|                   3|         343.5528| 1.0|       1.0|       3.0|       0.0|\n",
      "|       19.0|    0.127469857|107.7622|       33|                   3|        4022.7636| 0.0|       1.0|       0.0|       2.0|\n",
      "|       16.2|    0.016687114| 96.9726|       16|                   2|        1076.5986| 1.0|       3.0|       1.0|       0.0|\n",
      "|       19.2|     0.09444959|187.8214|       11|                   2|         4710.535| 1.0|       3.0|       1.0|       0.0|\n",
      "|       11.8|            0.0| 45.5402|       19|                   1|        1516.0266| 0.0|       0.0|       0.0|       0.0|\n",
      "|       18.5|    0.045463773|144.1102|       21|                   1|         2187.153| 1.0|       4.0|       2.0|       0.0|\n",
      "|       15.1|      0.1000135|145.4786|       19|                   1|        1589.2646| 1.0|       0.0|       0.0|       0.0|\n",
      "|       17.6|    0.047257328|119.6782|       21|                   1|        2145.2076| 1.0|       1.0|       2.0|       0.0|\n",
      "|      16.35|      0.0680243|196.4426|       31|                   3|         1977.426| 0.0|       0.0|       3.0|       0.0|\n",
      "|        9.0|    0.069088961| 56.3614|       21|                   1|        1547.3192| 1.0|      14.0|       2.0|       0.0|\n",
      "|       11.8|    0.008596051|115.3492|        9|                   3|        1621.8888| 0.0|       7.0|       0.0|       3.0|\n",
      "|        9.0|    0.069196376| 54.3614|       19|                   1|         718.3982| 1.0|      14.0|       0.0|       0.0|\n",
      "|       8.26|    0.034237682|113.2834|       33|                   3|         2303.668| 0.0|      11.0|       0.0|       2.0|\n",
      "|      13.35|     0.10249212|230.5352|       14|                   2|        2748.4224| 0.0|       4.0|       2.0|       0.0|\n",
      "+-----------+---------------+--------+---------+--------------------+-----------------+----+----------+----------+----------+\n",
      "only showing top 20 rows\n",
      "\n"
     ]
    }
   ],
   "source": [
    "df.show()"
   ]
  },
  {
   "cell_type": "code",
   "execution_count": 90,
   "metadata": {},
   "outputs": [],
   "source": [
    "independent_variables = [\"Item_Weight\", \"isLF\", \"Item_Visibility\", \"itemTypeID\", \"Item_MRP\", \"outletAge\", \"outletSize\", \"Outlet_Location_Type\", \"outletType\"]\n",
    "featuresVector = VectorAssembler(inputCols=independent_variables,outputCol=\"featuresVector\")\n",
    "output = featuresVector.transform(df)"
   ]
  },
  {
   "cell_type": "code",
   "execution_count": 91,
   "metadata": {},
   "outputs": [
    {
     "name": "stdout",
     "output_type": "stream",
     "text": [
      "+-----------+---------------+--------+---------+--------------------+-----------------+----+----------+----------+----------+--------------------+\n",
      "|Item_Weight|Item_Visibility|Item_MRP|outletAge|Outlet_Location_Type|Item_Outlet_Sales|isLF|itemTypeID|outletSize|outletType|      featuresVector|\n",
      "+-----------+---------------+--------+---------+--------------------+-----------------+----+----------+----------+----------+--------------------+\n",
      "|        9.3|    0.016047301|249.8092|       19|                   1|         3735.138| 0.0|       4.0|       0.0|       0.0|[9.3,0.0,0.016047...|\n",
      "|       5.92|    0.019278216| 48.2692|        9|                   3|         443.4228| 1.0|       8.0|       0.0|       3.0|[5.92,1.0,0.01927...|\n",
      "|       17.5|    0.016760075| 141.618|       19|                   1|          2097.27| 0.0|       9.0|       0.0|       0.0|[17.5,0.0,0.01676...|\n",
      "|       19.2|            0.0| 182.095|       20|                   3|           732.38| 1.0|       0.0|       1.0|       1.0|[19.2,1.0,0.0,0.0...|\n",
      "|       8.93|            0.0| 53.8614|       31|                   3|         994.7052| 0.0|       2.0|       3.0|       0.0|[8.93,0.0,0.0,2.0...|\n",
      "|     10.395|            0.0| 51.4008|        9|                   3|         556.6088| 1.0|       6.0|       0.0|       3.0|[10.395,1.0,0.0,6...|\n",
      "|      13.65|    0.012741089| 57.6588|       31|                   3|         343.5528| 1.0|       1.0|       3.0|       0.0|[13.65,1.0,0.0127...|\n",
      "|       19.0|    0.127469857|107.7622|       33|                   3|        4022.7636| 0.0|       1.0|       0.0|       2.0|[19.0,0.0,0.12746...|\n",
      "|       16.2|    0.016687114| 96.9726|       16|                   2|        1076.5986| 1.0|       3.0|       1.0|       0.0|[16.2,1.0,0.01668...|\n",
      "|       19.2|     0.09444959|187.8214|       11|                   2|         4710.535| 1.0|       3.0|       1.0|       0.0|[19.2,1.0,0.09444...|\n",
      "|       11.8|            0.0| 45.5402|       19|                   1|        1516.0266| 0.0|       0.0|       0.0|       0.0|(9,[0,4,5,7],[11....|\n",
      "|       18.5|    0.045463773|144.1102|       21|                   1|         2187.153| 1.0|       4.0|       2.0|       0.0|[18.5,1.0,0.04546...|\n",
      "|       15.1|      0.1000135|145.4786|       19|                   1|        1589.2646| 1.0|       0.0|       0.0|       0.0|[15.1,1.0,0.10001...|\n",
      "|       17.6|    0.047257328|119.6782|       21|                   1|        2145.2076| 1.0|       1.0|       2.0|       0.0|[17.6,1.0,0.04725...|\n",
      "|      16.35|      0.0680243|196.4426|       31|                   3|         1977.426| 0.0|       0.0|       3.0|       0.0|[16.35,0.0,0.0680...|\n",
      "|        9.0|    0.069088961| 56.3614|       21|                   1|        1547.3192| 1.0|      14.0|       2.0|       0.0|[9.0,1.0,0.069088...|\n",
      "|       11.8|    0.008596051|115.3492|        9|                   3|        1621.8888| 0.0|       7.0|       0.0|       3.0|[11.8,0.0,0.00859...|\n",
      "|        9.0|    0.069196376| 54.3614|       19|                   1|         718.3982| 1.0|      14.0|       0.0|       0.0|[9.0,1.0,0.069196...|\n",
      "|       8.26|    0.034237682|113.2834|       33|                   3|         2303.668| 0.0|      11.0|       0.0|       2.0|[8.26,0.0,0.03423...|\n",
      "|      13.35|     0.10249212|230.5352|       14|                   2|        2748.4224| 0.0|       4.0|       2.0|       0.0|[13.35,0.0,0.1024...|\n",
      "+-----------+---------------+--------+---------+--------------------+-----------------+----+----------+----------+----------+--------------------+\n",
      "only showing top 20 rows\n",
      "\n"
     ]
    }
   ],
   "source": [
    "output.show()"
   ]
  },
  {
   "cell_type": "code",
   "execution_count": 92,
   "metadata": {},
   "outputs": [],
   "source": [
    "for col in independent_variables:\n",
    "    output = output.drop(col)\n",
    "output = output.withColumnRenamed('Item_Outlet_Sales', 'totalSales')"
   ]
  },
  {
   "cell_type": "code",
   "execution_count": 93,
   "metadata": {},
   "outputs": [
    {
     "name": "stdout",
     "output_type": "stream",
     "text": [
      "+----------+--------------------+\n",
      "|totalSales|      featuresVector|\n",
      "+----------+--------------------+\n",
      "|  3735.138|[9.3,0.0,0.016047...|\n",
      "|  443.4228|[5.92,1.0,0.01927...|\n",
      "|   2097.27|[17.5,0.0,0.01676...|\n",
      "|    732.38|[19.2,1.0,0.0,0.0...|\n",
      "|  994.7052|[8.93,0.0,0.0,2.0...|\n",
      "|  556.6088|[10.395,1.0,0.0,6...|\n",
      "|  343.5528|[13.65,1.0,0.0127...|\n",
      "| 4022.7636|[19.0,0.0,0.12746...|\n",
      "| 1076.5986|[16.2,1.0,0.01668...|\n",
      "|  4710.535|[19.2,1.0,0.09444...|\n",
      "| 1516.0266|(9,[0,4,5,7],[11....|\n",
      "|  2187.153|[18.5,1.0,0.04546...|\n",
      "| 1589.2646|[15.1,1.0,0.10001...|\n",
      "| 2145.2076|[17.6,1.0,0.04725...|\n",
      "|  1977.426|[16.35,0.0,0.0680...|\n",
      "| 1547.3192|[9.0,1.0,0.069088...|\n",
      "| 1621.8888|[11.8,0.0,0.00859...|\n",
      "|  718.3982|[9.0,1.0,0.069196...|\n",
      "|  2303.668|[8.26,0.0,0.03423...|\n",
      "| 2748.4224|[13.35,0.0,0.1024...|\n",
      "+----------+--------------------+\n",
      "only showing top 20 rows\n",
      "\n"
     ]
    }
   ],
   "source": [
    "output.show()"
   ]
  },
  {
   "cell_type": "code",
   "execution_count": 94,
   "metadata": {},
   "outputs": [],
   "source": [
    "train,test = output.randomSplit([0.8, 0.2])"
   ]
  },
  {
   "cell_type": "code",
   "execution_count": 95,
   "metadata": {},
   "outputs": [],
   "source": [
    "train.toPandas().to_csv('constants/quick_fit.csv')"
   ]
  },
  {
   "cell_type": "code",
   "execution_count": 96,
   "metadata": {},
   "outputs": [],
   "source": [
    "def autoTest(report, label, pred):\n",
    "    metrics = {\"mae\": 0,\n",
    "               'mse': 0,\n",
    "               'rmse': 0,\n",
    "               'r2': 0,\n",
    "               'var': 0}\n",
    "    for metric in metrics.keys():\n",
    "        evaluator = ml.evaluation.RegressionEvaluator(labelCol=label, predictionCol=pred, metricName=metric)\n",
    "        metrics[metric] = evaluator.evaluate(report)\n",
    "    print(*[f'{met}: {result}' for met, result in metrics.items()],sep='\\n')"
   ]
  },
  {
   "cell_type": "code",
   "execution_count": 97,
   "metadata": {},
   "outputs": [],
   "source": [
    "model = ml.regression.DecisionTreeRegressor(featuresCol='featuresVector', labelCol='totalSales', maxBins=2048)\n",
    "model = model.fit(train)"
   ]
  },
  {
   "cell_type": "code",
   "execution_count": 98,
   "metadata": {},
   "outputs": [],
   "source": [
    "prediction = model.transform(train)"
   ]
  },
  {
   "cell_type": "code",
   "execution_count": 99,
   "metadata": {},
   "outputs": [
    {
     "name": "stdout",
     "output_type": "stream",
     "text": [
      "+-------+--------------------+\n",
      "|summary|          difference|\n",
      "+-------+--------------------+\n",
      "|  count|                6868|\n",
      "|   mean|-8.50168314703290...|\n",
      "| stddev|  1074.2186720654647|\n",
      "|    min| -4899.2590363636355|\n",
      "|    max|   6862.763763636364|\n",
      "+-------+--------------------+\n",
      "\n"
     ]
    }
   ],
   "source": [
    "prediction.withColumn('difference', prediction['totalSales'] - prediction['prediction']).select('difference').describe().show()"
   ]
  },
  {
   "cell_type": "code",
   "execution_count": 100,
   "metadata": {},
   "outputs": [
    {
     "name": "stdout",
     "output_type": "stream",
     "text": [
      "mae: 751.5942210672191\n",
      "mse: 1153777.7376861675\n",
      "rmse: 1074.1404645977022\n",
      "r2: 0.605078252691762\n",
      "var: 1767757.3399595795\n"
     ]
    }
   ],
   "source": [
    "autoTest(report=prediction, label='totalSales', pred='prediction')"
   ]
  }
 ],
 "metadata": {
  "kernelspec": {
   "display_name": "Python 3",
   "language": "python",
   "name": "python3"
  },
  "language_info": {
   "codemirror_mode": {
    "name": "ipython",
    "version": 3
   },
   "file_extension": ".py",
   "mimetype": "text/x-python",
   "name": "python",
   "nbconvert_exporter": "python",
   "pygments_lexer": "ipython3",
   "version": "3.10.6"
  }
 },
 "nbformat": 4,
 "nbformat_minor": 2
}
