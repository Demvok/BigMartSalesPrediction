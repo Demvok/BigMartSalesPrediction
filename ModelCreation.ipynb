{
 "cells": [
  {
   "cell_type": "code",
   "execution_count": 1,
   "metadata": {},
   "outputs": [
    {
     "data": {
      "text/html": [
       "\n",
       "            <div>\n",
       "                <p><b>SparkSession - in-memory</b></p>\n",
       "                \n",
       "        <div>\n",
       "            <p><b>SparkContext</b></p>\n",
       "\n",
       "            <p><a href=\"http://DESKTOP-CBNV54N:4040\">Spark UI</a></p>\n",
       "\n",
       "            <dl>\n",
       "              <dt>Version</dt>\n",
       "                <dd><code>v3.5.0</code></dd>\n",
       "              <dt>Master</dt>\n",
       "                <dd><code>local[*]</code></dd>\n",
       "              <dt>AppName</dt>\n",
       "                <dd><code>BigMartSales</code></dd>\n",
       "            </dl>\n",
       "        </div>\n",
       "        \n",
       "            </div>\n",
       "        "
      ],
      "text/plain": [
       "<pyspark.sql.session.SparkSession at 0x1ecce5a3f10>"
      ]
     },
     "execution_count": 1,
     "metadata": {},
     "output_type": "execute_result"
    }
   ],
   "source": [
    "import pyspark as sp\n",
    "from pyspark.sql import SparkSession\n",
    "from pyspark.ml.feature import StringIndexer\n",
    "from pyspark.ml.feature import VectorAssembler\n",
    "import pyspark.ml as ml\n",
    "spark = SparkSession.builder.appName('BigMartSales').getOrCreate()\n",
    "spark"
   ]
  },
  {
   "cell_type": "code",
   "execution_count": 2,
   "metadata": {},
   "outputs": [
    {
     "name": "stdout",
     "output_type": "stream",
     "text": [
      "root\n",
      " |-- Item_Weight: double (nullable = true)\n",
      " |-- Item_Fat_Content: integer (nullable = true)\n",
      " |-- Item_Visibility: double (nullable = true)\n",
      " |-- Item_Type: integer (nullable = true)\n",
      " |-- Item_MRP: double (nullable = true)\n",
      " |-- outletAge: integer (nullable = true)\n",
      " |-- Outlet_Size: integer (nullable = true)\n",
      " |-- Outlet_Location_Type: integer (nullable = true)\n",
      " |-- Outlet_Type: integer (nullable = true)\n",
      " |-- Item_Outlet_Sales: double (nullable = true)\n",
      "\n"
     ]
    }
   ],
   "source": [
    "df = spark.read.csv('constants/quick_fit.csv', header=True, inferSchema=True)\n",
    "df.printSchema()"
   ]
  },
  {
   "cell_type": "code",
   "execution_count": 3,
   "metadata": {},
   "outputs": [],
   "source": [
    "independent_variables = [\"Item_Weight\", \"Item_Fat_Content\", \"Item_Visibility\", \"Item_Type\", \"Item_MRP\", \"outletAge\", \"Outlet_Size\", \"Outlet_Location_Type\", \"Outlet_Type\"]\n",
    "featuresVector = VectorAssembler(inputCols=independent_variables,outputCol=\"featuresVector\")\n",
    "output = featuresVector.transform(df)"
   ]
  },
  {
   "cell_type": "code",
   "execution_count": 4,
   "metadata": {},
   "outputs": [],
   "source": [
    "output = output.withColumnRenamed('Item_Outlet_Sales', 'totalSales').select('featuresVector', 'totalSales')"
   ]
  },
  {
   "cell_type": "code",
   "execution_count": 5,
   "metadata": {},
   "outputs": [
    {
     "name": "stdout",
     "output_type": "stream",
     "text": [
      "+--------------------+----------+\n",
      "|      featuresVector|totalSales|\n",
      "+--------------------+----------+\n",
      "|[9.3,0.0,0.016047...|  3735.138|\n",
      "|[5.92,1.0,0.01927...|  443.4228|\n",
      "|[17.5,0.0,0.01676...|   2097.27|\n",
      "|[19.2,1.0,0.0,6.0...|    732.38|\n",
      "|[8.93,0.0,0.0,9.0...|  994.7052|\n",
      "|[10.395,1.0,0.0,0...|  556.6088|\n",
      "|[13.65,1.0,0.0127...|  343.5528|\n",
      "|[19.0,0.0,0.12746...| 4022.7636|\n",
      "|[16.2,1.0,0.01668...| 1076.5986|\n",
      "|[19.2,1.0,0.09444...|  4710.535|\n",
      "|[11.8,0.0,0.0,6.0...| 1516.0266|\n",
      "|[18.5,1.0,0.04546...|  2187.153|\n",
      "|[15.1,1.0,0.10001...| 1589.2646|\n",
      "|[17.6,1.0,0.04725...| 2145.2076|\n",
      "|[16.35,0.0,0.0680...|  1977.426|\n",
      "|[9.0,1.0,0.069088...| 1547.3192|\n",
      "|[11.8,0.0,0.00859...| 1621.8888|\n",
      "|[9.0,1.0,0.069196...|  718.3982|\n",
      "|[8.26,0.0,0.03423...|  2303.668|\n",
      "|[13.35,0.0,0.1024...| 2748.4224|\n",
      "+--------------------+----------+\n",
      "only showing top 20 rows\n",
      "\n"
     ]
    }
   ],
   "source": [
    "output.show()"
   ]
  },
  {
   "cell_type": "code",
   "execution_count": 6,
   "metadata": {},
   "outputs": [],
   "source": [
    "train,test = output.randomSplit([0.8, 0.2])"
   ]
  },
  {
   "cell_type": "code",
   "execution_count": 7,
   "metadata": {},
   "outputs": [],
   "source": [
    "def autoTest(report, label, pred):\n",
    "    metrics = {\"mae\": 0,\n",
    "               'mse': 0,\n",
    "               'rmse': 0,\n",
    "               'r2': 0,\n",
    "               'var': 0}\n",
    "    for metric in metrics.keys():\n",
    "        evaluator = ml.evaluation.RegressionEvaluator(labelCol=label, predictionCol=pred, metricName=metric)\n",
    "        metrics[metric] = evaluator.evaluate(report)\n",
    "    print(*[f'{met}: {result}' for met, result in metrics.items()],sep='\\n')"
   ]
  },
  {
   "cell_type": "code",
   "execution_count": 8,
   "metadata": {},
   "outputs": [],
   "source": [
    "model = ml.regression.DecisionTreeRegressor(featuresCol='featuresVector', labelCol='totalSales', maxBins=2048)\n",
    "model = model.fit(train)"
   ]
  },
  {
   "cell_type": "code",
   "execution_count": 9,
   "metadata": {},
   "outputs": [],
   "source": [
    "prediction = model.transform(train)"
   ]
  },
  {
   "cell_type": "code",
   "execution_count": 10,
   "metadata": {},
   "outputs": [
    {
     "name": "stdout",
     "output_type": "stream",
     "text": [
      "mae: 755.7722394585275\n",
      "mse: 1150792.787984912\n",
      "rmse: 1072.750105096668\n",
      "r2: 0.6117819359658123\n",
      "var: 1813502.0107330377\n"
     ]
    }
   ],
   "source": [
    "autoTest(report=prediction, label='totalSales', pred='prediction')"
   ]
  },
  {
   "cell_type": "code",
   "execution_count": 11,
   "metadata": {},
   "outputs": [],
   "source": [
    "model.write().overwrite().save('model')"
   ]
  }
 ],
 "metadata": {
  "kernelspec": {
   "display_name": "Python 3",
   "language": "python",
   "name": "python3"
  },
  "language_info": {
   "codemirror_mode": {
    "name": "ipython",
    "version": 3
   },
   "file_extension": ".py",
   "mimetype": "text/x-python",
   "name": "python",
   "nbconvert_exporter": "python",
   "pygments_lexer": "ipython3",
   "version": "3.10.6"
  }
 },
 "nbformat": 4,
 "nbformat_minor": 2
}
