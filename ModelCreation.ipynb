{
 "cells": [
  {
   "cell_type": "code",
   "execution_count": 58,
   "metadata": {},
   "outputs": [],
   "source": [
    "import pyspark as sp\n",
    "from pyspark.sql import SparkSession\n",
    "from pyspark.ml.feature import StringIndexer\n",
    "from pyspark.ml.feature import VectorAssembler\n",
    "from pyspark.ml.regression import LinearRegression\n",
    "spark = SparkSession.builder.appName('BigMartSales').getOrCreate()"
   ]
  },
  {
   "cell_type": "code",
   "execution_count": 52,
   "metadata": {},
   "outputs": [],
   "source": [
    "df = spark.read.csv('data/cleaned_train.csv', header=True, inferSchema=True)"
   ]
  },
  {
   "cell_type": "code",
   "execution_count": 53,
   "metadata": {},
   "outputs": [
    {
     "name": "stdout",
     "output_type": "stream",
     "text": [
      "+---------------+-----------+----------------+---------------+--------------------+--------+-----------------+-------------------------+-----------+--------------------+-----------+-----------------+\n",
      "|Item_Identifier|Item_Weight|Item_Fat_Content|Item_Visibility|           Item_Type|Item_MRP|Outlet_Identifier|Outlet_Establishment_Year|Outlet_Size|Outlet_Location_Type|Outlet_Type|Item_Outlet_Sales|\n",
      "+---------------+-----------+----------------+---------------+--------------------+--------+-----------------+-------------------------+-----------+--------------------+-----------+-----------------+\n",
      "|          FDA15|        9.3|         Low Fat|    0.016047301|               Dairy|249.8092|           OUT049|                     1999|     Medium|                   1|         S1|         3735.138|\n",
      "|          DRC01|       5.92|         Regular|    0.019278216|         Soft Drinks| 48.2692|           OUT018|                     2009|     Medium|                   3|         S2|         443.4228|\n",
      "|          FDN15|       17.5|         Low Fat|    0.016760075|                Meat| 141.618|           OUT049|                     1999|     Medium|                   1|         S1|          2097.27|\n",
      "|          FDX07|       19.2|         Regular|            0.0|Fruits and Vegeta...| 182.095|           OUT010|                     1998|  undefined|                   3|          G|           732.38|\n",
      "|          NCD19|       8.93|         Low Fat|            0.0|           Household| 53.8614|           OUT013|                     1987|       High|                   3|         S1|         994.7052|\n",
      "|          FDP36|     10.395|         Regular|            0.0|        Baking Goods| 51.4008|           OUT018|                     2009|     Medium|                   3|         S2|         556.6088|\n",
      "|          FDO10|      13.65|         Regular|    0.012741089|         Snack Foods| 57.6588|           OUT013|                     1987|       High|                   3|         S1|         343.5528|\n",
      "|          FDP10|       19.0|         Low Fat|    0.127469857|         Snack Foods|107.7622|           OUT027|                     1985|     Medium|                   3|         S3|        4022.7636|\n",
      "|          FDH17|       16.2|         Regular|    0.016687114|        Frozen Foods| 96.9726|           OUT045|                     2002|  undefined|                   2|         S1|        1076.5986|\n",
      "|          FDU28|       19.2|         Regular|     0.09444959|        Frozen Foods|187.8214|           OUT017|                     2007|  undefined|                   2|         S1|         4710.535|\n",
      "|          FDY07|       11.8|         Low Fat|            0.0|Fruits and Vegeta...| 45.5402|           OUT049|                     1999|     Medium|                   1|         S1|        1516.0266|\n",
      "|          FDA03|       18.5|         Regular|    0.045463773|               Dairy|144.1102|           OUT046|                     1997|      Small|                   1|         S1|         2187.153|\n",
      "|          FDX32|       15.1|         Regular|      0.1000135|Fruits and Vegeta...|145.4786|           OUT049|                     1999|     Medium|                   1|         S1|        1589.2646|\n",
      "|          FDS46|       17.6|         Regular|    0.047257328|         Snack Foods|119.6782|           OUT046|                     1997|      Small|                   1|         S1|        2145.2076|\n",
      "|          FDF32|      16.35|         Low Fat|      0.0680243|Fruits and Vegeta...|196.4426|           OUT013|                     1987|       High|                   3|         S1|         1977.426|\n",
      "|          FDP49|        9.0|         Regular|    0.069088961|           Breakfast| 56.3614|           OUT046|                     1997|      Small|                   1|         S1|        1547.3192|\n",
      "|          NCB42|       11.8|         Low Fat|    0.008596051|  Health and Hygiene|115.3492|           OUT018|                     2009|     Medium|                   3|         S2|        1621.8888|\n",
      "|          FDP49|        9.0|         Regular|    0.069196376|           Breakfast| 54.3614|           OUT049|                     1999|     Medium|                   1|         S1|         718.3982|\n",
      "|          DRI11|       8.26|         Low Fat|    0.034237682|         Hard Drinks|113.2834|           OUT027|                     1985|     Medium|                   3|         S3|         2303.668|\n",
      "|          FDU02|      13.35|         Low Fat|     0.10249212|               Dairy|230.5352|           OUT035|                     2004|      Small|                   2|         S1|        2748.4224|\n",
      "+---------------+-----------+----------------+---------------+--------------------+--------+-----------------+-------------------------+-----------+--------------------+-----------+-----------------+\n",
      "only showing top 20 rows\n",
      "\n"
     ]
    }
   ],
   "source": [
    "df.show()"
   ]
  },
  {
   "cell_type": "code",
   "execution_count": 54,
   "metadata": {},
   "outputs": [
    {
     "name": "stdout",
     "output_type": "stream",
     "text": [
      "root\n",
      " |-- Item_Identifier: string (nullable = true)\n",
      " |-- Item_Weight: double (nullable = true)\n",
      " |-- Item_Fat_Content: string (nullable = true)\n",
      " |-- Item_Visibility: double (nullable = true)\n",
      " |-- Item_Type: string (nullable = true)\n",
      " |-- Item_MRP: double (nullable = true)\n",
      " |-- Outlet_Identifier: string (nullable = true)\n",
      " |-- Outlet_Establishment_Year: integer (nullable = true)\n",
      " |-- Outlet_Size: string (nullable = true)\n",
      " |-- Outlet_Location_Type: integer (nullable = true)\n",
      " |-- Outlet_Type: string (nullable = true)\n",
      " |-- Item_Outlet_Sales: double (nullable = true)\n",
      "\n"
     ]
    }
   ],
   "source": [
    "df.printSchema()"
   ]
  },
  {
   "cell_type": "code",
   "execution_count": 56,
   "metadata": {},
   "outputs": [
    {
     "name": "stdout",
     "output_type": "stream",
     "text": [
      "+-------+---------------+------------------+----------------+-------------------+-------------+-----------------+-----------------+-------------------------+-----------+--------------------+-----------+------------------+\n",
      "|summary|Item_Identifier|       Item_Weight|Item_Fat_Content|    Item_Visibility|    Item_Type|         Item_MRP|Outlet_Identifier|Outlet_Establishment_Year|Outlet_Size|Outlet_Location_Type|Outlet_Type| Item_Outlet_Sales|\n",
      "+-------+---------------+------------------+----------------+-------------------+-------------+-----------------+-----------------+-------------------------+-----------+--------------------+-----------+------------------+\n",
      "|  count|           8523|              8523|            8523|               8523|         8523|             8523|             8523|                     8523|       8523|                8523|       8523|              8523|\n",
      "|   mean|           NULL|12.875361375103129|            NULL|0.06613202877895127|         NULL|140.9927819781768|             NULL|       1997.8318667135984|       NULL|  2.1128710547929135|       NULL|2181.2889135750365|\n",
      "| stddev|           NULL| 4.645030663735811|            NULL|0.05159782232113514|         NULL|62.27506651219047|             NULL|        8.371760408092667|       NULL|  0.8127574995201172|       NULL|1706.4996157338403|\n",
      "|    min|          DRA12|             4.555|         Low Fat|                0.0| Baking Goods|            31.29|           OUT010|                     1985|       High|                   1|          G|             33.29|\n",
      "|    max|          NCZ54|             21.35|         Regular|        0.328390948|Starchy Foods|         266.8884|           OUT049|                     2009|  undefined|                   3|         S3|        13086.9648|\n",
      "+-------+---------------+------------------+----------------+-------------------+-------------+-----------------+-----------------+-------------------------+-----------+--------------------+-----------+------------------+\n",
      "\n"
     ]
    }
   ],
   "source": [
    "df.describe().show()"
   ]
  },
  {
   "cell_type": "code",
   "execution_count": 65,
   "metadata": {},
   "outputs": [],
   "source": [
    "to_encode = {'Item_Identifier': 'itemID',\n",
    "             'Item_Fat_Content': 'isLF',\n",
    "             'Item_Type': 'itemTypeID',\n",
    "             'Outlet_Size': 'outletSize'}\n",
    "\n",
    "for column, new_column in to_encode.items():\n",
    "    indexer = StringIndexer(inputCol=column, outputCol=new_column)\n",
    "    indexed_df = indexer.fit(df).transform(df)"
   ]
  },
  {
   "cell_type": "code",
   "execution_count": 71,
   "metadata": {},
   "outputs": [],
   "source": [
    "indexed_df = indexed_df.drop('Item_Identifier').drop('Item_Fat_Content').drop('Item_Type').drop('Outlet_Size').drop('Outlet_Identifier')"
   ]
  },
  {
   "cell_type": "code",
   "execution_count": 72,
   "metadata": {},
   "outputs": [
    {
     "name": "stdout",
     "output_type": "stream",
     "text": [
      "+-----------+---------------+--------+-------------------------+--------------------+-----------+-----------------+----------+\n",
      "|Item_Weight|Item_Visibility|Item_MRP|Outlet_Establishment_Year|Outlet_Location_Type|Outlet_Type|Item_Outlet_Sales|outletSize|\n",
      "+-----------+---------------+--------+-------------------------+--------------------+-----------+-----------------+----------+\n",
      "|        9.3|    0.016047301|249.8092|                     1999|                   1|         S1|         3735.138|       0.0|\n",
      "|       5.92|    0.019278216| 48.2692|                     2009|                   3|         S2|         443.4228|       0.0|\n",
      "|       17.5|    0.016760075| 141.618|                     1999|                   1|         S1|          2097.27|       0.0|\n",
      "|       19.2|            0.0| 182.095|                     1998|                   3|          G|           732.38|       1.0|\n",
      "|       8.93|            0.0| 53.8614|                     1987|                   3|         S1|         994.7052|       3.0|\n",
      "|     10.395|            0.0| 51.4008|                     2009|                   3|         S2|         556.6088|       0.0|\n",
      "|      13.65|    0.012741089| 57.6588|                     1987|                   3|         S1|         343.5528|       3.0|\n",
      "|       19.0|    0.127469857|107.7622|                     1985|                   3|         S3|        4022.7636|       0.0|\n",
      "|       16.2|    0.016687114| 96.9726|                     2002|                   2|         S1|        1076.5986|       1.0|\n",
      "|       19.2|     0.09444959|187.8214|                     2007|                   2|         S1|         4710.535|       1.0|\n",
      "|       11.8|            0.0| 45.5402|                     1999|                   1|         S1|        1516.0266|       0.0|\n",
      "|       18.5|    0.045463773|144.1102|                     1997|                   1|         S1|         2187.153|       2.0|\n",
      "|       15.1|      0.1000135|145.4786|                     1999|                   1|         S1|        1589.2646|       0.0|\n",
      "|       17.6|    0.047257328|119.6782|                     1997|                   1|         S1|        2145.2076|       2.0|\n",
      "|      16.35|      0.0680243|196.4426|                     1987|                   3|         S1|         1977.426|       3.0|\n",
      "|        9.0|    0.069088961| 56.3614|                     1997|                   1|         S1|        1547.3192|       2.0|\n",
      "|       11.8|    0.008596051|115.3492|                     2009|                   3|         S2|        1621.8888|       0.0|\n",
      "|        9.0|    0.069196376| 54.3614|                     1999|                   1|         S1|         718.3982|       0.0|\n",
      "|       8.26|    0.034237682|113.2834|                     1985|                   3|         S3|         2303.668|       0.0|\n",
      "|      13.35|     0.10249212|230.5352|                     2004|                   2|         S1|        2748.4224|       2.0|\n",
      "+-----------+---------------+--------+-------------------------+--------------------+-----------+-----------------+----------+\n",
      "only showing top 20 rows\n",
      "\n"
     ]
    }
   ],
   "source": [
    "indexed_df.show()"
   ]
  },
  {
   "cell_type": "code",
   "execution_count": null,
   "metadata": {},
   "outputs": [],
   "source": [
    "featureasVector = VectorAssembler(inputCols=[\"Item_Identifier\",\"Item_Weight\", \"Item_Fat_Content\", \"Item_Visibility\", \"Item_Type\", \"Item_MRP\", \"Outlet_Establishment_Year\", \"Outlet_Size\", \"Outlet_Location_Type\", \"Outlet_Type\"],outputCol=\"Independent Features\")"
   ]
  }
 ],
 "metadata": {
  "kernelspec": {
   "display_name": "Python 3",
   "language": "python",
   "name": "python3"
  },
  "language_info": {
   "codemirror_mode": {
    "name": "ipython",
    "version": 3
   },
   "file_extension": ".py",
   "mimetype": "text/x-python",
   "name": "python",
   "nbconvert_exporter": "python",
   "pygments_lexer": "ipython3",
   "version": "3.11.7"
  }
 },
 "nbformat": 4,
 "nbformat_minor": 2
}
