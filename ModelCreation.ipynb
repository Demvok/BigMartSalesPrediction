{
 "cells": [
  {
   "cell_type": "code",
   "execution_count": 32,
   "metadata": {},
   "outputs": [],
   "source": [
    "import pyspark as sp\n",
    "from pyspark.sql import SparkSession\n",
    "from pyspark.ml.feature import StringIndexer\n",
    "from pyspark.ml.feature import VectorAssembler\n",
    "from pyspark.ml.regression import LinearRegression\n",
    "spark = SparkSession.builder.appName('BigMartSales').getOrCreate()"
   ]
  },
  {
   "cell_type": "code",
   "execution_count": 33,
   "metadata": {},
   "outputs": [],
   "source": [
    "df = spark.read.csv('data/cleaned_train.csv', header=True, inferSchema=True)"
   ]
  },
  {
   "cell_type": "code",
   "execution_count": 34,
   "metadata": {},
   "outputs": [
    {
     "name": "stdout",
     "output_type": "stream",
     "text": [
      "+---------------+-----------+----------------+---------------+--------------------+--------+-----------------+---------+-----------+--------------------+-----------+-----------------+\n",
      "|Item_Identifier|Item_Weight|Item_Fat_Content|Item_Visibility|           Item_Type|Item_MRP|Outlet_Identifier|outletAge|Outlet_Size|Outlet_Location_Type|Outlet_Type|Item_Outlet_Sales|\n",
      "+---------------+-----------+----------------+---------------+--------------------+--------+-----------------+---------+-----------+--------------------+-----------+-----------------+\n",
      "|          FDA15|        9.3|         Low Fat|    0.016047301|               Dairy|249.8092|           OUT049|       19|     Medium|                   1|         S1|         3735.138|\n",
      "|          DRC01|       5.92|         Regular|    0.019278216|         Soft Drinks| 48.2692|           OUT018|        9|     Medium|                   3|         S2|         443.4228|\n",
      "|          FDN15|       17.5|         Low Fat|    0.016760075|                Meat| 141.618|           OUT049|       19|     Medium|                   1|         S1|          2097.27|\n",
      "|          FDX07|       19.2|         Regular|            0.0|Fruits and Vegeta...| 182.095|           OUT010|       20|  undefined|                   3|          G|           732.38|\n",
      "|          NCD19|       8.93|         Low Fat|            0.0|           Household| 53.8614|           OUT013|       31|       High|                   3|         S1|         994.7052|\n",
      "|          FDP36|     10.395|         Regular|            0.0|        Baking Goods| 51.4008|           OUT018|        9|     Medium|                   3|         S2|         556.6088|\n",
      "|          FDO10|      13.65|         Regular|    0.012741089|         Snack Foods| 57.6588|           OUT013|       31|       High|                   3|         S1|         343.5528|\n",
      "|          FDP10|       19.0|         Low Fat|    0.127469857|         Snack Foods|107.7622|           OUT027|       33|     Medium|                   3|         S3|        4022.7636|\n",
      "|          FDH17|       16.2|         Regular|    0.016687114|        Frozen Foods| 96.9726|           OUT045|       16|  undefined|                   2|         S1|        1076.5986|\n",
      "|          FDU28|       19.2|         Regular|     0.09444959|        Frozen Foods|187.8214|           OUT017|       11|  undefined|                   2|         S1|         4710.535|\n",
      "|          FDY07|       11.8|         Low Fat|            0.0|Fruits and Vegeta...| 45.5402|           OUT049|       19|     Medium|                   1|         S1|        1516.0266|\n",
      "|          FDA03|       18.5|         Regular|    0.045463773|               Dairy|144.1102|           OUT046|       21|      Small|                   1|         S1|         2187.153|\n",
      "|          FDX32|       15.1|         Regular|      0.1000135|Fruits and Vegeta...|145.4786|           OUT049|       19|     Medium|                   1|         S1|        1589.2646|\n",
      "|          FDS46|       17.6|         Regular|    0.047257328|         Snack Foods|119.6782|           OUT046|       21|      Small|                   1|         S1|        2145.2076|\n",
      "|          FDF32|      16.35|         Low Fat|      0.0680243|Fruits and Vegeta...|196.4426|           OUT013|       31|       High|                   3|         S1|         1977.426|\n",
      "|          FDP49|        9.0|         Regular|    0.069088961|           Breakfast| 56.3614|           OUT046|       21|      Small|                   1|         S1|        1547.3192|\n",
      "|          NCB42|       11.8|         Low Fat|    0.008596051|  Health and Hygiene|115.3492|           OUT018|        9|     Medium|                   3|         S2|        1621.8888|\n",
      "|          FDP49|        9.0|         Regular|    0.069196376|           Breakfast| 54.3614|           OUT049|       19|     Medium|                   1|         S1|         718.3982|\n",
      "|          DRI11|       8.26|         Low Fat|    0.034237682|         Hard Drinks|113.2834|           OUT027|       33|     Medium|                   3|         S3|         2303.668|\n",
      "|          FDU02|      13.35|         Low Fat|     0.10249212|               Dairy|230.5352|           OUT035|       14|      Small|                   2|         S1|        2748.4224|\n",
      "+---------------+-----------+----------------+---------------+--------------------+--------+-----------------+---------+-----------+--------------------+-----------+-----------------+\n",
      "only showing top 20 rows\n",
      "\n"
     ]
    }
   ],
   "source": [
    "df.show()"
   ]
  },
  {
   "cell_type": "code",
   "execution_count": 35,
   "metadata": {},
   "outputs": [
    {
     "name": "stdout",
     "output_type": "stream",
     "text": [
      "root\n",
      " |-- Item_Identifier: string (nullable = true)\n",
      " |-- Item_Weight: double (nullable = true)\n",
      " |-- Item_Fat_Content: string (nullable = true)\n",
      " |-- Item_Visibility: double (nullable = true)\n",
      " |-- Item_Type: string (nullable = true)\n",
      " |-- Item_MRP: double (nullable = true)\n",
      " |-- Outlet_Identifier: string (nullable = true)\n",
      " |-- outletAge: integer (nullable = true)\n",
      " |-- Outlet_Size: string (nullable = true)\n",
      " |-- Outlet_Location_Type: integer (nullable = true)\n",
      " |-- Outlet_Type: string (nullable = true)\n",
      " |-- Item_Outlet_Sales: double (nullable = true)\n",
      "\n"
     ]
    }
   ],
   "source": [
    "df.printSchema()"
   ]
  },
  {
   "cell_type": "code",
   "execution_count": 36,
   "metadata": {},
   "outputs": [
    {
     "name": "stdout",
     "output_type": "stream",
     "text": [
      "+-------+---------------+------------------+----------------+-------------------+-------------+-----------------+-----------------+------------------+-----------+--------------------+-----------+------------------+\n",
      "|summary|Item_Identifier|       Item_Weight|Item_Fat_Content|    Item_Visibility|    Item_Type|         Item_MRP|Outlet_Identifier|         outletAge|Outlet_Size|Outlet_Location_Type|Outlet_Type| Item_Outlet_Sales|\n",
      "+-------+---------------+------------------+----------------+-------------------+-------------+-----------------+-----------------+------------------+-----------+--------------------+-----------+------------------+\n",
      "|  count|           8523|              8523|            8523|               8523|         8523|             8523|             8523|              8523|       8523|                8523|       8523|              8523|\n",
      "|   mean|           NULL|12.875361375103129|            NULL|0.06613202877895127|         NULL|140.9927819781768|             NULL|20.168133286401503|       NULL|  2.1128710547929135|       NULL|2181.2889135750365|\n",
      "| stddev|           NULL| 4.645030663735811|            NULL|0.05159782232113514|         NULL|62.27506651219047|             NULL| 8.371760408092657|       NULL|  0.8127574995201172|       NULL|1706.4996157338403|\n",
      "|    min|          DRA12|             4.555|         Low Fat|                0.0| Baking Goods|            31.29|           OUT010|                 9|       High|                   1|          G|             33.29|\n",
      "|    max|          NCZ54|             21.35|         Regular|        0.328390948|Starchy Foods|         266.8884|           OUT049|                33|  undefined|                   3|         S3|        13086.9648|\n",
      "+-------+---------------+------------------+----------------+-------------------+-------------+-----------------+-----------------+------------------+-----------+--------------------+-----------+------------------+\n",
      "\n"
     ]
    }
   ],
   "source": [
    "df.describe().show()"
   ]
  },
  {
   "cell_type": "code",
   "execution_count": 37,
   "metadata": {},
   "outputs": [],
   "source": [
    "to_encode = {'Item_Identifier': 'itemID',\n",
    "             'Item_Fat_Content': 'isLF',\n",
    "             'Item_Type': 'itemTypeID',\n",
    "             'Outlet_Size': 'outletSize',\n",
    "             'Outlet_Type': 'outletType'}\n",
    "\n",
    "for column, new_column in to_encode.items():\n",
    "    indexer = StringIndexer(inputCol=column, outputCol=new_column)\n",
    "    df = indexer.fit(df).transform(df)"
   ]
  },
  {
   "cell_type": "code",
   "execution_count": 38,
   "metadata": {},
   "outputs": [],
   "source": [
    "df = df.drop('Item_Identifier').drop('Item_Fat_Content').drop('Item_Type').drop('Outlet_Size').drop('Outlet_Identifier').drop('Outlet_Type')"
   ]
  },
  {
   "cell_type": "code",
   "execution_count": 39,
   "metadata": {},
   "outputs": [
    {
     "name": "stdout",
     "output_type": "stream",
     "text": [
      "+-----------+---------------+--------+---------+--------------------+-----------------+------+----+----------+----------+----------+\n",
      "|Item_Weight|Item_Visibility|Item_MRP|outletAge|Outlet_Location_Type|Item_Outlet_Sales|itemID|isLF|itemTypeID|outletSize|outletType|\n",
      "+-----------+---------------+--------+---------+--------------------+-----------------+------+----+----------+----------+----------+\n",
      "|        9.3|    0.016047301|249.8092|       19|                   1|         3735.138|  40.0| 0.0|       4.0|       0.0|       0.0|\n",
      "|       5.92|    0.019278216| 48.2692|        9|                   3|         443.4228| 392.0| 1.0|       8.0|       0.0|       3.0|\n",
      "|       17.5|    0.016760075| 141.618|       19|                   1|          2097.27| 243.0| 0.0|       9.0|       0.0|       0.0|\n",
      "|       19.2|            0.0| 182.095|       20|                   3|           732.38| 671.0| 1.0|       0.0|       1.0|       1.0|\n",
      "|       8.93|            0.0| 53.8614|       31|                   3|         994.7052| 719.0| 0.0|       2.0|       3.0|       0.0|\n",
      "|     10.395|            0.0| 51.4008|        9|                   3|         556.6088|1450.0| 1.0|       6.0|       0.0|       3.0|\n",
      "|      13.65|    0.012741089| 57.6588|       31|                   3|         343.5528|  72.0| 1.0|       1.0|       3.0|       0.0|\n",
      "|       19.0|    0.127469857|107.7622|       33|                   3|        4022.7636| 254.0| 0.0|       1.0|       0.0|       2.0|\n",
      "|       16.2|    0.016687114| 96.9726|       16|                   2|        1076.5986| 197.0| 1.0|       3.0|       1.0|       0.0|\n",
      "|       19.2|     0.09444959|187.8214|       11|                   2|         4710.535|1024.0| 1.0|       3.0|       1.0|       0.0|\n",
      "|       11.8|            0.0| 45.5402|       19|                   1|        1516.0266| 330.0| 0.0|       0.0|       0.0|       0.0|\n",
      "|       18.5|    0.045463773|144.1102|       21|                   1|         2187.153| 427.0| 1.0|       4.0|       2.0|       0.0|\n",
      "|       15.1|      0.1000135|145.4786|       19|                   1|        1589.2646| 325.0| 1.0|       0.0|       0.0|       0.0|\n",
      "|       17.6|    0.047257328|119.6782|       21|                   1|        2145.2076|1003.0| 1.0|       1.0|       2.0|       0.0|\n",
      "|      16.35|      0.0680243|196.4426|       31|                   3|         1977.426| 872.0| 0.0|       0.0|       3.0|       0.0|\n",
      "|        9.0|    0.069088961| 56.3614|       21|                   1|        1547.3192| 258.0| 1.0|      14.0|       2.0|       0.0|\n",
      "|       11.8|    0.008596051|115.3492|        9|                   3|        1621.8888| 714.0| 0.0|       7.0|       0.0|       3.0|\n",
      "|        9.0|    0.069196376| 54.3614|       19|                   1|         718.3982| 258.0| 1.0|      14.0|       0.0|       0.0|\n",
      "|       8.26|    0.034237682|113.2834|       33|                   3|         2303.668| 151.0| 0.0|      11.0|       0.0|       2.0|\n",
      "|      13.35|     0.10249212|230.5352|       14|                   2|        2748.4224| 297.0| 0.0|       4.0|       2.0|       0.0|\n",
      "+-----------+---------------+--------+---------+--------------------+-----------------+------+----+----------+----------+----------+\n",
      "only showing top 20 rows\n",
      "\n"
     ]
    }
   ],
   "source": [
    "df.show()"
   ]
  },
  {
   "cell_type": "code",
   "execution_count": 40,
   "metadata": {},
   "outputs": [
    {
     "name": "stdout",
     "output_type": "stream",
     "text": [
      "root\n",
      " |-- Item_Weight: double (nullable = true)\n",
      " |-- Item_Visibility: double (nullable = true)\n",
      " |-- Item_MRP: double (nullable = true)\n",
      " |-- outletAge: integer (nullable = true)\n",
      " |-- Outlet_Location_Type: integer (nullable = true)\n",
      " |-- Item_Outlet_Sales: double (nullable = true)\n",
      " |-- itemID: double (nullable = false)\n",
      " |-- isLF: double (nullable = false)\n",
      " |-- itemTypeID: double (nullable = false)\n",
      " |-- outletSize: double (nullable = false)\n",
      " |-- outletType: double (nullable = false)\n",
      "\n"
     ]
    }
   ],
   "source": [
    "df.printSchema()"
   ]
  },
  {
   "cell_type": "code",
   "execution_count": 42,
   "metadata": {},
   "outputs": [
    {
     "name": "stdout",
     "output_type": "stream",
     "text": [
      "+-----------+---------------+--------+---------+--------------------+-----------------+------+----+----------+----------+----------+\n",
      "|Item_Weight|Item_Visibility|Item_MRP|outletAge|Outlet_Location_Type|Item_Outlet_Sales|itemID|isLF|itemTypeID|outletSize|outletType|\n",
      "+-----------+---------------+--------+---------+--------------------+-----------------+------+----+----------+----------+----------+\n",
      "|        9.3|    0.016047301|249.8092|       19|                   1|         3735.138|  40.0| 0.0|       4.0|       0.0|       0.0|\n",
      "|       5.92|    0.019278216| 48.2692|        9|                   3|         443.4228| 392.0| 1.0|       8.0|       0.0|       3.0|\n",
      "|       17.5|    0.016760075| 141.618|       19|                   1|          2097.27| 243.0| 0.0|       9.0|       0.0|       0.0|\n",
      "|       19.2|            0.0| 182.095|       20|                   3|           732.38| 671.0| 1.0|       0.0|       1.0|       1.0|\n",
      "|       8.93|            0.0| 53.8614|       31|                   3|         994.7052| 719.0| 0.0|       2.0|       3.0|       0.0|\n",
      "|     10.395|            0.0| 51.4008|        9|                   3|         556.6088|1450.0| 1.0|       6.0|       0.0|       3.0|\n",
      "|      13.65|    0.012741089| 57.6588|       31|                   3|         343.5528|  72.0| 1.0|       1.0|       3.0|       0.0|\n",
      "|       19.0|    0.127469857|107.7622|       33|                   3|        4022.7636| 254.0| 0.0|       1.0|       0.0|       2.0|\n",
      "|       16.2|    0.016687114| 96.9726|       16|                   2|        1076.5986| 197.0| 1.0|       3.0|       1.0|       0.0|\n",
      "|       19.2|     0.09444959|187.8214|       11|                   2|         4710.535|1024.0| 1.0|       3.0|       1.0|       0.0|\n",
      "|       11.8|            0.0| 45.5402|       19|                   1|        1516.0266| 330.0| 0.0|       0.0|       0.0|       0.0|\n",
      "|       18.5|    0.045463773|144.1102|       21|                   1|         2187.153| 427.0| 1.0|       4.0|       2.0|       0.0|\n",
      "|       15.1|      0.1000135|145.4786|       19|                   1|        1589.2646| 325.0| 1.0|       0.0|       0.0|       0.0|\n",
      "|       17.6|    0.047257328|119.6782|       21|                   1|        2145.2076|1003.0| 1.0|       1.0|       2.0|       0.0|\n",
      "|      16.35|      0.0680243|196.4426|       31|                   3|         1977.426| 872.0| 0.0|       0.0|       3.0|       0.0|\n",
      "|        9.0|    0.069088961| 56.3614|       21|                   1|        1547.3192| 258.0| 1.0|      14.0|       2.0|       0.0|\n",
      "|       11.8|    0.008596051|115.3492|        9|                   3|        1621.8888| 714.0| 0.0|       7.0|       0.0|       3.0|\n",
      "|        9.0|    0.069196376| 54.3614|       19|                   1|         718.3982| 258.0| 1.0|      14.0|       0.0|       0.0|\n",
      "|       8.26|    0.034237682|113.2834|       33|                   3|         2303.668| 151.0| 0.0|      11.0|       0.0|       2.0|\n",
      "|      13.35|     0.10249212|230.5352|       14|                   2|        2748.4224| 297.0| 0.0|       4.0|       2.0|       0.0|\n",
      "+-----------+---------------+--------+---------+--------------------+-----------------+------+----+----------+----------+----------+\n",
      "only showing top 20 rows\n",
      "\n"
     ]
    }
   ],
   "source": [
    "df.show()"
   ]
  },
  {
   "cell_type": "code",
   "execution_count": 61,
   "metadata": {},
   "outputs": [],
   "source": [
    "independent_variables = [\"itemID\", \"Item_Weight\", \"isLF\", \"Item_Visibility\", \"itemTypeID\", \"Item_MRP\", \"outletAge\", \"outletSize\", \"Outlet_Location_Type\", \"outletType\"]\n",
    "featuresVector = VectorAssembler(inputCols=independent_variables,outputCol=\"featuresVector\")\n",
    "output = featuresVector.transform(df)"
   ]
  },
  {
   "cell_type": "code",
   "execution_count": 62,
   "metadata": {},
   "outputs": [
    {
     "name": "stdout",
     "output_type": "stream",
     "text": [
      "+-----------+---------------+--------+---------+--------------------+-----------------+------+----+----------+----------+----------+--------------------+\n",
      "|Item_Weight|Item_Visibility|Item_MRP|outletAge|Outlet_Location_Type|Item_Outlet_Sales|itemID|isLF|itemTypeID|outletSize|outletType|      featuresVector|\n",
      "+-----------+---------------+--------+---------+--------------------+-----------------+------+----+----------+----------+----------+--------------------+\n",
      "|        9.3|    0.016047301|249.8092|       19|                   1|         3735.138|  40.0| 0.0|       4.0|       0.0|       0.0|[40.0,9.3,0.0,0.0...|\n",
      "|       5.92|    0.019278216| 48.2692|        9|                   3|         443.4228| 392.0| 1.0|       8.0|       0.0|       3.0|[392.0,5.92,1.0,0...|\n",
      "|       17.5|    0.016760075| 141.618|       19|                   1|          2097.27| 243.0| 0.0|       9.0|       0.0|       0.0|[243.0,17.5,0.0,0...|\n",
      "|       19.2|            0.0| 182.095|       20|                   3|           732.38| 671.0| 1.0|       0.0|       1.0|       1.0|[671.0,19.2,1.0,0...|\n",
      "|       8.93|            0.0| 53.8614|       31|                   3|         994.7052| 719.0| 0.0|       2.0|       3.0|       0.0|[719.0,8.93,0.0,0...|\n",
      "|     10.395|            0.0| 51.4008|        9|                   3|         556.6088|1450.0| 1.0|       6.0|       0.0|       3.0|[1450.0,10.395,1....|\n",
      "|      13.65|    0.012741089| 57.6588|       31|                   3|         343.5528|  72.0| 1.0|       1.0|       3.0|       0.0|[72.0,13.65,1.0,0...|\n",
      "|       19.0|    0.127469857|107.7622|       33|                   3|        4022.7636| 254.0| 0.0|       1.0|       0.0|       2.0|[254.0,19.0,0.0,0...|\n",
      "|       16.2|    0.016687114| 96.9726|       16|                   2|        1076.5986| 197.0| 1.0|       3.0|       1.0|       0.0|[197.0,16.2,1.0,0...|\n",
      "|       19.2|     0.09444959|187.8214|       11|                   2|         4710.535|1024.0| 1.0|       3.0|       1.0|       0.0|[1024.0,19.2,1.0,...|\n",
      "|       11.8|            0.0| 45.5402|       19|                   1|        1516.0266| 330.0| 0.0|       0.0|       0.0|       0.0|(10,[0,1,5,6,8],[...|\n",
      "|       18.5|    0.045463773|144.1102|       21|                   1|         2187.153| 427.0| 1.0|       4.0|       2.0|       0.0|[427.0,18.5,1.0,0...|\n",
      "|       15.1|      0.1000135|145.4786|       19|                   1|        1589.2646| 325.0| 1.0|       0.0|       0.0|       0.0|[325.0,15.1,1.0,0...|\n",
      "|       17.6|    0.047257328|119.6782|       21|                   1|        2145.2076|1003.0| 1.0|       1.0|       2.0|       0.0|[1003.0,17.6,1.0,...|\n",
      "|      16.35|      0.0680243|196.4426|       31|                   3|         1977.426| 872.0| 0.0|       0.0|       3.0|       0.0|[872.0,16.35,0.0,...|\n",
      "|        9.0|    0.069088961| 56.3614|       21|                   1|        1547.3192| 258.0| 1.0|      14.0|       2.0|       0.0|[258.0,9.0,1.0,0....|\n",
      "|       11.8|    0.008596051|115.3492|        9|                   3|        1621.8888| 714.0| 0.0|       7.0|       0.0|       3.0|[714.0,11.8,0.0,0...|\n",
      "|        9.0|    0.069196376| 54.3614|       19|                   1|         718.3982| 258.0| 1.0|      14.0|       0.0|       0.0|[258.0,9.0,1.0,0....|\n",
      "|       8.26|    0.034237682|113.2834|       33|                   3|         2303.668| 151.0| 0.0|      11.0|       0.0|       2.0|[151.0,8.26,0.0,0...|\n",
      "|      13.35|     0.10249212|230.5352|       14|                   2|        2748.4224| 297.0| 0.0|       4.0|       2.0|       0.0|[297.0,13.35,0.0,...|\n",
      "+-----------+---------------+--------+---------+--------------------+-----------------+------+----+----------+----------+----------+--------------------+\n",
      "only showing top 20 rows\n",
      "\n"
     ]
    }
   ],
   "source": [
    "output.show()"
   ]
  },
  {
   "cell_type": "code",
   "execution_count": 63,
   "metadata": {},
   "outputs": [],
   "source": [
    "for col in independent_variables:\n",
    "    output = output.drop(col)\n",
    "output = output.withColumnRenamed('Item_Outlet_Sales', 'totalSales')"
   ]
  },
  {
   "cell_type": "code",
   "execution_count": 64,
   "metadata": {},
   "outputs": [
    {
     "name": "stdout",
     "output_type": "stream",
     "text": [
      "+----------+--------------------+\n",
      "|totalSales|      featuresVector|\n",
      "+----------+--------------------+\n",
      "|  3735.138|[40.0,9.3,0.0,0.0...|\n",
      "|  443.4228|[392.0,5.92,1.0,0...|\n",
      "|   2097.27|[243.0,17.5,0.0,0...|\n",
      "|    732.38|[671.0,19.2,1.0,0...|\n",
      "|  994.7052|[719.0,8.93,0.0,0...|\n",
      "|  556.6088|[1450.0,10.395,1....|\n",
      "|  343.5528|[72.0,13.65,1.0,0...|\n",
      "| 4022.7636|[254.0,19.0,0.0,0...|\n",
      "| 1076.5986|[197.0,16.2,1.0,0...|\n",
      "|  4710.535|[1024.0,19.2,1.0,...|\n",
      "| 1516.0266|(10,[0,1,5,6,8],[...|\n",
      "|  2187.153|[427.0,18.5,1.0,0...|\n",
      "| 1589.2646|[325.0,15.1,1.0,0...|\n",
      "| 2145.2076|[1003.0,17.6,1.0,...|\n",
      "|  1977.426|[872.0,16.35,0.0,...|\n",
      "| 1547.3192|[258.0,9.0,1.0,0....|\n",
      "| 1621.8888|[714.0,11.8,0.0,0...|\n",
      "|  718.3982|[258.0,9.0,1.0,0....|\n",
      "|  2303.668|[151.0,8.26,0.0,0...|\n",
      "| 2748.4224|[297.0,13.35,0.0,...|\n",
      "+----------+--------------------+\n",
      "only showing top 20 rows\n",
      "\n"
     ]
    }
   ],
   "source": [
    "output.show()"
   ]
  },
  {
   "cell_type": "code",
   "execution_count": 65,
   "metadata": {},
   "outputs": [],
   "source": [
    "train,test = output.randomSplit([0.8, 0.2])\n",
    "model = LinearRegression(featuresCol='featuresVector', labelCol='totalSales')\n",
    "model = model.fit(train)"
   ]
  },
  {
   "cell_type": "code",
   "execution_count": 68,
   "metadata": {},
   "outputs": [],
   "source": [
    "prediction = model.evaluate(test)"
   ]
  },
  {
   "cell_type": "code",
   "execution_count": 70,
   "metadata": {},
   "outputs": [
    {
     "data": {
      "text/plain": [
       "0.3744801843091541"
      ]
     },
     "execution_count": 70,
     "metadata": {},
     "output_type": "execute_result"
    }
   ],
   "source": [
    "prediction.r2"
   ]
  },
  {
   "cell_type": "code",
   "execution_count": 72,
   "metadata": {},
   "outputs": [
    {
     "data": {
      "text/plain": [
       "991.8691764484176"
      ]
     },
     "execution_count": 72,
     "metadata": {},
     "output_type": "execute_result"
    }
   ],
   "source": [
    "prediction.meanAbsoluteError"
   ]
  }
 ],
 "metadata": {
  "kernelspec": {
   "display_name": "Python 3",
   "language": "python",
   "name": "python3"
  },
  "language_info": {
   "codemirror_mode": {
    "name": "ipython",
    "version": 3
   },
   "file_extension": ".py",
   "mimetype": "text/x-python",
   "name": "python",
   "nbconvert_exporter": "python",
   "pygments_lexer": "ipython3",
   "version": "3.11.7"
  }
 },
 "nbformat": 4,
 "nbformat_minor": 2
}
